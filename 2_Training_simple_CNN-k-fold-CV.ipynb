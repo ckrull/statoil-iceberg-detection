{
 "cells": [
  {
   "cell_type": "code",
   "execution_count": 1,
   "metadata": {},
   "outputs": [],
   "source": [
    "import tensorflow as tf\n",
    "config = tf.ConfigProto()\n",
    "config.gpu_options.allow_growth = True\n",
    "session = tf.Session(config=config)"
   ]
  },
  {
   "cell_type": "code",
   "execution_count": 2,
   "metadata": {},
   "outputs": [
    {
     "name": "stderr",
     "output_type": "stream",
     "text": [
      "Using TensorFlow backend.\n"
     ]
    }
   ],
   "source": [
    "import os\n",
    "from pathlib import Path\n",
    "\n",
    "import keras\n",
    "import numpy as np\n",
    "import pandas as pd\n",
    "import seaborn as sns\n",
    "from keras import backend as K\n",
    "from keras.optimizers import Adam\n",
    "from matplotlib import pyplot as plt\n",
    "\n",
    "import kfold_keras\n",
    "from helper import (filter_guided, filter_lee, plot_training_history,\n",
    "                    prepare_data)\n",
    "from statoil_models import Larger_CNN, Simple_CNN\n",
    "\n",
    "%config InlineBackend.figure_format = 'retina'\n",
    "%matplotlib inline"
   ]
  },
  {
   "cell_type": "markdown",
   "metadata": {},
   "source": [
    "# CNN from scratch gridsearch\n",
    "This notebook is a grid search for the best simple CNN model trained from scratch. Several parameters are varied:\n",
    "- the design of the CNN either a small one with only 3 convolutional layers (32, 32,64 filters), or a larger one with four convolutional layers (16,32,64,128)\n",
    "- number and nodes of the fully connected layer for each model can be selected using a width and depth parameter\n",
    "- optional each model can have batch normalization layers \n",
    "- the filtering of the data is also varied: No pre-filtering, Guided or Lee Filter\n",
    "- the scaling of the data is either: None or on a per image basis\n",
    "\n",
    "The evaluation is done using a 5-fold Cross-validation with early stopping based on the loss on the validation set.\n",
    "Only the image data is used. The incidence angle is disregarded.\n",
    "\n",
    "** The best model uses the smaller CNN, a guided pre-filter, no data scaling and a fully connected layer with 128 nodes **\n",
    "`Simple_CNN_128_gn3  Acc=86  , Epi=76  , ROC_AUC=0.95 , vloss=0.308`\n"
   ]
  },
  {
   "cell_type": "markdown",
   "metadata": {},
   "source": [
    "## No Prefilter, no scaling"
   ]
  },
  {
   "cell_type": "code",
   "execution_count": 3,
   "metadata": {},
   "outputs": [
    {
     "name": "stdout",
     "output_type": "stream",
     "text": [
      "loaded training 1604\n"
     ]
    }
   ],
   "source": [
    "data_folder = Path(\"data\")\n",
    "train_file = data_folder / 'train.json'\n",
    "test_file = data_folder / 'test.json'\n",
    "\n",
    "train = pd.read_json(train_file) \n",
    "print('loaded training '+str(len(train)))\n",
    "#test = pd.read_json(test_file) \n",
    "#print('loaded test '+str(len(train)))\n",
    "\n",
    "y=train['is_iceberg'].values ## convert pandas series to numpy array\n",
    "X=prepare_data(train,dim=[0,1,2],filter_function=None,rnd=False,scale=None)\n",
    "input_shape= X[0].shape\n"
   ]
  },
  {
   "cell_type": "code",
   "execution_count": 4,
   "metadata": {
    "scrolled": false
   },
   "outputs": [
    {
     "name": "stderr",
     "output_type": "stream",
     "text": [
      "Simple_CNN_64_nn3   : 100%|██████████| 5/5 [01:41<00:00, 20.90s/it, Acc=86.2, Epi=81.2, ROC_AUC=0.942, vloss=0.325]\n",
      "Simple_CNN_128_nn3  : 100%|██████████| 5/5 [01:15<00:00, 14.61s/it, Acc=87.5, Epi=61.4, ROC_AUC=0.952, vloss=0.326]\n",
      "Simple_CNN_256_nn3  : 100%|██████████| 5/5 [01:21<00:00, 14.57s/it, Acc=79, Epi=60.4, ROC_AUC=0.854, vloss=3.55]   \n",
      "Simple_CNN_2x64_nn3 : 100%|██████████| 5/5 [01:30<00:00, 18.77s/it, Acc=86.3, Epi=65.6, ROC_AUC=0.945, vloss=0.374]\n",
      "Simple_CNN_2x128_nn3: 100%|██████████| 5/5 [01:07<00:00, 14.08s/it, Acc=85.9, Epi=54, ROC_AUC=0.941, vloss=0.454]\n",
      "Simple_CNN_2x256_nn3: 100%|██████████| 5/5 [01:20<00:00, 16.25s/it, Acc=81.5, Epi=63.6, ROC_AUC=0.885, vloss=0.477]\n",
      "Simple_CNN_bn64_nn3 : 100%|██████████| 5/5 [01:29<00:00, 18.97s/it, Acc=76.6, Epi=52.6, ROC_AUC=0.904, vloss=0.459]\n",
      "Simple_CNN_bn128_nn3: 100%|██████████| 5/5 [01:22<00:00, 16.09s/it, Acc=75.4, Epi=45.8, ROC_AUC=0.893, vloss=0.529]\n",
      "Simple_CNN_bn256_nn3: 100%|██████████| 5/5 [01:44<00:00, 22.08s/it, Acc=79.2, Epi=59.6, ROC_AUC=0.91, vloss=0.499] \n",
      "Simple_CNN_bn2x64_nn3: 100%|██████████| 5/5 [01:25<00:00, 19.34s/it, Acc=71.6, Epi=47.4, ROC_AUC=0.838, vloss=0.651]\n",
      "Simple_CNN_bn2x128_nn3: 100%|██████████| 5/5 [01:45<00:00, 23.07s/it, Acc=73.2, Epi=58.6, ROC_AUC=0.827, vloss=0.749]\n",
      "Simple_CNN_bn2x256_nn3: 100%|██████████| 5/5 [01:48<00:00, 20.42s/it, Acc=70.5, Epi=59.2, ROC_AUC=0.864, vloss=0.931]\n"
     ]
    }
   ],
   "source": [
    "grid_search= [\n",
    "              (Simple_CNN(input_shape),'Simple_CNN_64'),\n",
    "              (Simple_CNN(input_shape,width=2),'Simple_CNN_128'),\n",
    "              (Simple_CNN(input_shape,width=4),'Simple_CNN_256'),\n",
    "              (Simple_CNN(input_shape,depth=2),'Simple_CNN_2x64'),\n",
    "              (Simple_CNN(input_shape,width=2,depth=2),'Simple_CNN_2x128'),\n",
    "              (Simple_CNN(input_shape,width=4,depth=2),'Simple_CNN_2x256'),\n",
    "              (Simple_CNN(input_shape,batch_norm=True),'Simple_CNN_bn64'),\n",
    "              (Simple_CNN(input_shape,width=2,batch_norm=True),'Simple_CNN_bn128'),\n",
    "              (Simple_CNN(input_shape,width=4,batch_norm=True),'Simple_CNN_bn256'),\n",
    "              (Simple_CNN(input_shape,depth=2,batch_norm=True),'Simple_CNN_bn2x64'),\n",
    "              (Simple_CNN(input_shape,width=2,depth=2,batch_norm=True),'Simple_CNN_bn2x128'),\n",
    "              (Simple_CNN(input_shape,width=4,depth=2,batch_norm=True),'Simple_CNN_bn2x256')]\n",
    "models=[]\n",
    "results=[]\n",
    "for model, name in grid_search:\n",
    "    name += '_nn3'\n",
    "    out = kfold_keras.k_fold_keras_early_stop(model,X,y,k=5,name=name,train_at_end=False,patience=20)\n",
    "    models.append(name)\n",
    "    results.append(out)"
   ]
  },
  {
   "cell_type": "markdown",
   "metadata": {},
   "source": [
    "## Guided Prefilter, no scaling\n"
   ]
  },
  {
   "cell_type": "code",
   "execution_count": 5,
   "metadata": {},
   "outputs": [
    {
     "name": "stdout",
     "output_type": "stream",
     "text": [
      "loaded training 1604\n"
     ]
    }
   ],
   "source": [
    "data_folder = Path(\"data\")\n",
    "train_file = data_folder / 'train.json'\n",
    "test_file = data_folder / 'test.json'\n",
    "\n",
    "train = pd.read_json(train_file) \n",
    "print('loaded training '+str(len(train)))\n",
    "#test = pd.read_json(test_file) \n",
    "#print('loaded test '+str(len(train)))\n",
    "\n",
    "y=train['is_iceberg'].values ## convert pandas series to numpy array\n",
    "X=prepare_data(train,dim=[0,1,2],filter_function=filter_guided,rnd=False,scale=None)\n",
    "input_shape= X[0].shape\n"
   ]
  },
  {
   "cell_type": "code",
   "execution_count": 6,
   "metadata": {
    "scrolled": false
   },
   "outputs": [
    {
     "name": "stderr",
     "output_type": "stream",
     "text": [
      "Simple_CNN_64_gn3   : 100%|██████████| 5/5 [01:22<00:00, 17.69s/it, Acc=86.2, Epi=65.4, ROC_AUC=0.93, vloss=0.342] \n",
      "Simple_CNN_128_gn3  : 100%|██████████| 5/5 [01:36<00:00, 17.46s/it, Acc=86, Epi=76, ROC_AUC=0.95, vloss=0.308]     \n",
      "Simple_CNN_256_gn3  : 100%|██████████| 5/5 [00:32<00:00,  6.51s/it, Acc=53.1, Epi=21, ROC_AUC=0.5, vloss=16.2]\n",
      "Simple_CNN_2x64_gn3 : 100%|██████████| 5/5 [01:38<00:00, 19.80s/it, Acc=87.3, Epi=68.4, ROC_AUC=0.946, vloss=0.343]\n",
      "Simple_CNN_2x128_gn3: 100%|██████████| 5/5 [01:50<00:00, 22.95s/it, Acc=84, Epi=86.6, ROC_AUC=0.934, vloss=0.432] \n",
      "Simple_CNN_2x256_gn3: 100%|██████████| 5/5 [01:19<00:00, 15.71s/it, Acc=85.1, Epi=60.8, ROC_AUC=0.921, vloss=0.484]\n",
      "Simple_CNN_bn64_gn3 : 100%|██████████| 5/5 [01:22<00:00, 15.12s/it, Acc=76.8, Epi=47.4, ROC_AUC=0.9, vloss=0.657]  \n",
      "Simple_CNN_bn128_gn3: 100%|██████████| 5/5 [01:44<00:00, 19.72s/it, Acc=77.8, Epi=61, ROC_AUC=0.898, vloss=0.751]  \n",
      "Simple_CNN_bn256_gn3: 100%|██████████| 5/5 [01:19<00:00, 16.11s/it, Acc=76.4, Epi=45.6, ROC_AUC=0.891, vloss=0.477]\n",
      "Simple_CNN_bn2x64_gn3: 100%|██████████| 5/5 [01:48<00:00, 20.23s/it, Acc=74.9, Epi=57.6, ROC_AUC=0.872, vloss=0.665]\n",
      "Simple_CNN_bn2x128_gn3: 100%|██████████| 5/5 [01:38<00:00, 19.66s/it, Acc=73.8, Epi=55.2, ROC_AUC=0.872, vloss=0.775]\n",
      "Simple_CNN_bn2x256_gn3: 100%|██████████| 5/5 [01:37<00:00, 20.27s/it, Acc=76.7, Epi=54.2, ROC_AUC=0.875, vloss=0.586]\n"
     ]
    }
   ],
   "source": [
    "grid_search= [\n",
    "              (Simple_CNN(input_shape),'Simple_CNN_64'),\n",
    "              (Simple_CNN(input_shape,width=2),'Simple_CNN_128'),\n",
    "              (Simple_CNN(input_shape,width=4),'Simple_CNN_256'),\n",
    "              (Simple_CNN(input_shape,depth=2),'Simple_CNN_2x64'),\n",
    "              (Simple_CNN(input_shape,width=2,depth=2),'Simple_CNN_2x128'),\n",
    "              (Simple_CNN(input_shape,width=4,depth=2),'Simple_CNN_2x256'),\n",
    "              (Simple_CNN(input_shape,batch_norm=True),'Simple_CNN_bn64'),\n",
    "              (Simple_CNN(input_shape,width=2,batch_norm=True),'Simple_CNN_bn128'),\n",
    "              (Simple_CNN(input_shape,width=4,batch_norm=True),'Simple_CNN_bn256'),\n",
    "              (Simple_CNN(input_shape,depth=2,batch_norm=True),'Simple_CNN_bn2x64'),\n",
    "              (Simple_CNN(input_shape,width=2,depth=2,batch_norm=True),'Simple_CNN_bn2x128'),\n",
    "              (Simple_CNN(input_shape,width=4,depth=2,batch_norm=True),'Simple_CNN_bn2x256')]\n",
    "models=[]\n",
    "results=[]\n",
    "for model, name in grid_search:\n",
    "    name += '_gn3'\n",
    "    out = kfold_keras.k_fold_keras_early_stop(model,X,y,k=5,name=name,train_at_end=False,patience=20)\n",
    "    models.append(name)\n",
    "    results.append(out)"
   ]
  },
  {
   "cell_type": "markdown",
   "metadata": {},
   "source": [
    "## Lee Prefilter,  scaling"
   ]
  },
  {
   "cell_type": "code",
   "execution_count": 7,
   "metadata": {},
   "outputs": [
    {
     "name": "stdout",
     "output_type": "stream",
     "text": [
      "loaded training 1604\n",
      "filter: Lee scaled per image\n"
     ]
    }
   ],
   "source": [
    "data_folder = Path(\"data\")\n",
    "train_file = data_folder / 'train.json'\n",
    "test_file = data_folder / 'test.json'\n",
    "\n",
    "train = pd.read_json(train_file) \n",
    "print('loaded training '+str(len(train)))\n",
    "#test = pd.read_json(test_file) \n",
    "#print('loaded test '+str(len(train)))\n",
    "\n",
    "y=train['is_iceberg'].values ## convert pandas series to numpy array\n",
    "X=prepare_data(train,dim=[0,1,2],filter_function=filter_guided,rnd=False,scale='img')\n",
    "input_shape= X[0].shape\n",
    "print('filter: Lee scaled per image')"
   ]
  },
  {
   "cell_type": "code",
   "execution_count": 8,
   "metadata": {
    "scrolled": false
   },
   "outputs": [
    {
     "name": "stderr",
     "output_type": "stream",
     "text": [
      "Simple_CNN_64_li3   : 100%|██████████| 5/5 [01:20<00:00, 15.66s/it, Acc=79.5, Epi=59.8, ROC_AUC=0.901, vloss=0.398]\n",
      "Simple_CNN_128_li3  : 100%|██████████| 5/5 [02:01<00:00, 23.82s/it, Acc=76.1, Epi=85.2, ROC_AUC=0.832, vloss=0.443]\n",
      "Simple_CNN_256_li3  : 100%|██████████| 5/5 [02:19<00:00, 26.54s/it, Acc=82.7, Epi=96.2, ROC_AUC=0.918, vloss=0.379]\n",
      "Simple_CNN_2x64_li3 : 100%|██████████| 5/5 [01:53<00:00, 22.26s/it, Acc=81.7, Epi=80.2, ROC_AUC=0.917, vloss=0.379]\n",
      "Simple_CNN_2x128_li3: 100%|██████████| 5/5 [02:05<00:00, 23.52s/it, Acc=75.6, Epi=86.8, ROC_AUC=0.829, vloss=0.487]\n",
      "Simple_CNN_2x256_li3: 100%|██████████| 5/5 [01:57<00:00, 23.28s/it, Acc=82.5, Epi=83.4, ROC_AUC=0.921, vloss=0.389]\n",
      "Simple_CNN_bn64_li3 : 100%|██████████| 5/5 [01:27<00:00, 18.31s/it, Acc=78.7, Epi=49.2, ROC_AUC=0.916, vloss=0.476]\n",
      "Simple_CNN_bn128_li3: 100%|██████████| 5/5 [01:29<00:00, 17.49s/it, Acc=74.6, Epi=50.6, ROC_AUC=0.869, vloss=0.673]\n",
      "Simple_CNN_bn256_li3: 100%|██████████| 5/5 [01:40<00:00, 21.04s/it, Acc=78.5, Epi=57, ROC_AUC=0.877, vloss=0.49]   \n",
      "Simple_CNN_bn2x64_li3: 100%|██████████| 5/5 [01:29<00:00, 18.06s/it, Acc=80.3, Epi=48.4, ROC_AUC=0.904, vloss=0.442]\n",
      "Simple_CNN_bn2x128_li3: 100%|██████████| 5/5 [01:33<00:00, 18.92s/it, Acc=78.4, Epi=47.6, ROC_AUC=0.908, vloss=0.448]\n",
      "Simple_CNN_bn2x256_li3: 100%|██████████| 5/5 [01:45<00:00, 19.40s/it, Acc=73.7, Epi=44.4, ROC_AUC=0.875, vloss=0.629]\n"
     ]
    }
   ],
   "source": [
    "grid_search= [\n",
    "              (Simple_CNN(input_shape),'Simple_CNN_64'),\n",
    "              (Simple_CNN(input_shape,width=2),'Simple_CNN_128'),\n",
    "              (Simple_CNN(input_shape,width=4),'Simple_CNN_256'),\n",
    "              (Simple_CNN(input_shape,depth=2),'Simple_CNN_2x64'),\n",
    "              (Simple_CNN(input_shape,width=2,depth=2),'Simple_CNN_2x128'),\n",
    "              (Simple_CNN(input_shape,width=4,depth=2),'Simple_CNN_2x256'),\n",
    "              (Simple_CNN(input_shape,batch_norm=True),'Simple_CNN_bn64'),\n",
    "              (Simple_CNN(input_shape,width=2,batch_norm=True),'Simple_CNN_bn128'),\n",
    "              (Simple_CNN(input_shape,width=4,batch_norm=True),'Simple_CNN_bn256'),\n",
    "              (Simple_CNN(input_shape,depth=2,batch_norm=True),'Simple_CNN_bn2x64'),\n",
    "              (Simple_CNN(input_shape,width=2,depth=2,batch_norm=True),'Simple_CNN_bn2x128'),\n",
    "              (Simple_CNN(input_shape,width=4,depth=2,batch_norm=True),'Simple_CNN_bn2x256')]\n",
    "models_lee=[]\n",
    "results_lee=[]\n",
    "for model, name in grid_search:\n",
    "    name += '_li3'\n",
    "    out = kfold_keras.k_fold_keras_early_stop(model,X,y,k=5,name=name,train_at_end=False,patience=20)\n",
    "    models_lee.append(name)\n",
    "    results_lee.append(out)\n",
    "    \n",
    "\n"
   ]
  },
  {
   "cell_type": "markdown",
   "metadata": {},
   "source": [
    "## Guided Prefilter, scaling"
   ]
  },
  {
   "cell_type": "code",
   "execution_count": 9,
   "metadata": {},
   "outputs": [
    {
     "name": "stdout",
     "output_type": "stream",
     "text": [
      "loaded training 1604\n",
      "filter: guided scaled\n"
     ]
    }
   ],
   "source": [
    "data_folder = Path(\"data\")\n",
    "train_file = data_folder / 'train.json'\n",
    "test_file = data_folder / 'test.json'\n",
    "\n",
    "train = pd.read_json(train_file) \n",
    "print('loaded training '+str(len(train)))\n",
    "#test = pd.read_json(test_file) \n",
    "#print('loaded test '+str(len(train)))\n",
    "\n",
    "y=train['is_iceberg'].values ## convert pandas series to numpy array\n",
    "X=prepare_data(train,dim=[0,1,2],filter_function=filter_guided,rnd=False,scale='img')\n",
    "input_shape= X[0].shape\n",
    "print('filter: guided scaled')"
   ]
  },
  {
   "cell_type": "code",
   "execution_count": 10,
   "metadata": {
    "scrolled": false
   },
   "outputs": [
    {
     "name": "stderr",
     "output_type": "stream",
     "text": [
      "Simple_CNN_64_gi3   : 100%|██████████| 5/5 [02:09<00:00, 24.57s/it, Acc=81.4, Epi=91.8, ROC_AUC=0.912, vloss=0.372]\n",
      "Simple_CNN_128_gi3  : 100%|██████████| 5/5 [01:58<00:00, 23.47s/it, Acc=81.4, Epi=68.4, ROC_AUC=0.908, vloss=0.393]\n",
      "Simple_CNN_256_gi3  : 100%|██████████| 5/5 [02:33<00:00, 31.79s/it, Acc=82.5, Epi=93.2, ROC_AUC=0.922, vloss=0.38] \n",
      "Simple_CNN_2x64_gi3 : 100%|██████████| 5/5 [02:43<00:00, 31.53s/it, Acc=81.4, Epi=87.4, ROC_AUC=0.914, vloss=0.396]\n",
      "Simple_CNN_2x128_gi3: 100%|██████████| 5/5 [02:40<00:00, 35.06s/it, Acc=83, Epi=77.6, ROC_AUC=0.923, vloss=0.381]  \n",
      "Simple_CNN_2x256_gi3: 100%|██████████| 5/5 [02:18<00:00, 24.93s/it, Acc=78, Epi=75, ROC_AUC=0.881, vloss=0.399]    \n",
      "Simple_CNN_bn64_gi3 : 100%|██████████| 5/5 [01:35<00:00, 19.70s/it, Acc=81.6, Epi=51.4, ROC_AUC=0.928, vloss=0.391]\n",
      "Simple_CNN_bn128_gi3: 100%|██████████| 5/5 [01:54<00:00, 23.55s/it, Acc=83.6, Epi=59.8, ROC_AUC=0.926, vloss=0.36]\n",
      "Simple_CNN_bn256_gi3: 100%|██████████| 5/5 [03:01<00:00, 34.53s/it, Acc=80.3, Epi=47.6, ROC_AUC=0.904, vloss=0.452]\n",
      "Simple_CNN_bn2x64_gi3: 100%|██████████| 5/5 [02:45<00:00, 33.29s/it, Acc=81.4, Epi=72.2, ROC_AUC=0.909, vloss=0.408]\n",
      "Simple_CNN_bn2x128_gi3: 100%|██████████| 5/5 [01:59<00:00, 23.22s/it, Acc=72.1, Epi=51, ROC_AUC=0.864, vloss=0.714]  \n",
      "Simple_CNN_bn2x256_gi3: 100%|██████████| 5/5 [01:56<00:00, 24.08s/it, Acc=77.2, Epi=50, ROC_AUC=0.863, vloss=0.679]  \n"
     ]
    }
   ],
   "source": [
    "grid_search= [\n",
    "              (Simple_CNN(input_shape),'Simple_CNN_64'),\n",
    "              (Simple_CNN(input_shape,width=2),'Simple_CNN_128'),\n",
    "              (Simple_CNN(input_shape,width=4),'Simple_CNN_256'),\n",
    "              (Simple_CNN(input_shape,depth=2),'Simple_CNN_2x64'),\n",
    "              (Simple_CNN(input_shape,width=2,depth=2),'Simple_CNN_2x128'),\n",
    "              (Simple_CNN(input_shape,width=4,depth=2),'Simple_CNN_2x256'),\n",
    "              (Simple_CNN(input_shape,batch_norm=True),'Simple_CNN_bn64'),\n",
    "              (Simple_CNN(input_shape,width=2,batch_norm=True),'Simple_CNN_bn128'),\n",
    "              (Simple_CNN(input_shape,width=4,batch_norm=True),'Simple_CNN_bn256'),\n",
    "              (Simple_CNN(input_shape,depth=2,batch_norm=True),'Simple_CNN_bn2x64'),\n",
    "              (Simple_CNN(input_shape,width=2,depth=2,batch_norm=True),'Simple_CNN_bn2x128'),\n",
    "              (Simple_CNN(input_shape,width=4,depth=2,batch_norm=True),'Simple_CNN_bn2x256')]\n",
    "models_gi3=[]\n",
    "results_gi3=[]\n",
    "for model, name in grid_search:\n",
    "    name += '_gi3'\n",
    "    out = kfold_keras.k_fold_keras_early_stop(model,X,y,k=5,name=name,train_at_end=False,patience=20)\n",
    "    models_gi3.append(name)\n",
    "    results_gi3.append(out)\n",
    "    \n",
    "\n"
   ]
  },
  {
   "cell_type": "markdown",
   "metadata": {},
   "source": [
    "## Guided Prefilter, no scaling, Larger_CNN model"
   ]
  },
  {
   "cell_type": "code",
   "execution_count": 11,
   "metadata": {},
   "outputs": [
    {
     "name": "stdout",
     "output_type": "stream",
     "text": [
      "loaded training 1604\n",
      "filter: guided\n"
     ]
    }
   ],
   "source": [
    "data_folder = Path(\"data\")\n",
    "train_file = data_folder / 'train.json'\n",
    "test_file = data_folder / 'test.json'\n",
    "\n",
    "train = pd.read_json(train_file) \n",
    "print('loaded training '+str(len(train)))\n",
    "#test = pd.read_json(test_file) \n",
    "#print('loaded test '+str(len(train)))\n",
    "\n",
    "y=train['is_iceberg'].values ## convert pandas series to numpy array\n",
    "X=prepare_data(train,dim=[0,1,2],filter_function=filter_guided,rnd=False,scale=None)\n",
    "input_shape= X[0].shape\n",
    "print('filter: guided')"
   ]
  },
  {
   "cell_type": "code",
   "execution_count": 12,
   "metadata": {
    "scrolled": false
   },
   "outputs": [
    {
     "name": "stderr",
     "output_type": "stream",
     "text": [
      "Larger_CNN_64_gn3_large: 100%|██████████| 5/5 [02:50<00:00, 33.95s/it, Acc=83.6, Epi=78.6, ROC_AUC=0.922, vloss=0.34]\n",
      "Larger_CNN_128_gn3_large: 100%|██████████| 5/5 [03:14<00:00, 38.31s/it, Acc=86.7, Epi=73.6, ROC_AUC=0.95, vloss=0.35]  \n",
      "Larger_CNN_256_gn3_large: 100%|██████████| 5/5 [01:57<00:00, 23.44s/it, Acc=86.7, Epi=49.2, ROC_AUC=0.949, vloss=0.307]\n",
      "Larger_CNN_2x64_gn3_large: 100%|██████████| 5/5 [03:14<00:00, 38.06s/it, Acc=86.5, Epi=64.6, ROC_AUC=0.943, vloss=0.415]\n",
      "Larger_CNN_2x128_gn3_large: 100%|██████████| 5/5 [01:47<00:00, 22.01s/it, Acc=86.9, Epi=65.4, ROC_AUC=0.947, vloss=0.386]\n",
      "Larger_CNN_2x256_gn3_large: 100%|██████████| 5/5 [01:53<00:00, 22.67s/it, Acc=85.4, Epi=69.6, ROC_AUC=0.943, vloss=0.398]\n",
      "Larger_CNN_bn64_gn3_large: 100%|██████████| 5/5 [02:06<00:00, 27.02s/it, Acc=81.6, Epi=60.2, ROC_AUC=0.929, vloss=0.395]\n",
      "Larger_CNN_bn128_gn3_large: 100%|██████████| 5/5 [02:08<00:00, 25.52s/it, Acc=77.2, Epi=57.8, ROC_AUC=0.9, vloss=0.53]   \n",
      "Larger_CNN_bn256_gn3_large: 100%|██████████| 5/5 [02:39<00:00, 30.12s/it, Acc=85, Epi=78.6, ROC_AUC=0.935, vloss=0.37] \n",
      "Larger_CNN_bn2x64_gn3_large: 100%|██████████| 5/5 [02:18<00:00, 27.20s/it, Acc=77, Epi=59.8, ROC_AUC=0.884, vloss=0.486]  \n",
      "Larger_CNN_bn2x128_gn3_large: 100%|██████████| 5/5 [02:48<00:00, 33.49s/it, Acc=83.2, Epi=73.8, ROC_AUC=0.927, vloss=0.38] \n",
      "Larger_CNN_bn2x256_gn3_large: 100%|██████████| 5/5 [02:15<00:00, 26.81s/it, Acc=80, Epi=57.8, ROC_AUC=0.899, vloss=0.562]  \n"
     ]
    }
   ],
   "source": [
    "grid_search= [\n",
    "              (Larger_CNN(input_shape),'Larger_CNN_64'),\n",
    "              (Larger_CNN(input_shape,width=2),'Larger_CNN_128'),\n",
    "              (Larger_CNN(input_shape,width=4),'Larger_CNN_256'),\n",
    "              (Larger_CNN(input_shape,depth=2),'Larger_CNN_2x64'),\n",
    "              (Larger_CNN(input_shape,width=2,depth=2),'Larger_CNN_2x128'),\n",
    "              (Larger_CNN(input_shape,width=4,depth=2),'Larger_CNN_2x256'),\n",
    "              (Larger_CNN(input_shape,batch_norm=True),'Larger_CNN_bn64'),\n",
    "              (Larger_CNN(input_shape,width=2,batch_norm=True),'Larger_CNN_bn128'),\n",
    "              (Larger_CNN(input_shape,width=4,batch_norm=True),'Larger_CNN_bn256'),\n",
    "              (Larger_CNN(input_shape,depth=2,batch_norm=True),'Larger_CNN_bn2x64'),\n",
    "              (Larger_CNN(input_shape,width=2,depth=2,batch_norm=True),'Larger_CNN_bn2x128'),\n",
    "              (Larger_CNN(input_shape,width=4,depth=2,batch_norm=True),'Larger_CNN_bn2x256')]\n",
    "models_gn3_large=[]\n",
    "results_gn3_large=[]\n",
    "for model, name in grid_search:\n",
    "    name += '_gn3_large'\n",
    "    out = kfold_keras.k_fold_keras_early_stop(model,X,y,k=5,name=name,train_at_end=False,patience=20)\n",
    "    models_gn3_large.append(name)\n",
    "    results_gn3_large.append(out)\n",
    "    \n",
    "\n"
   ]
  },
  {
   "cell_type": "markdown",
   "metadata": {},
   "source": [
    "## Guided Prefilter, scaling, Larger_CNN model"
   ]
  },
  {
   "cell_type": "code",
   "execution_count": 13,
   "metadata": {},
   "outputs": [
    {
     "name": "stdout",
     "output_type": "stream",
     "text": [
      "loaded training 1604\n",
      "filter: guided\n"
     ]
    }
   ],
   "source": [
    "data_folder = Path(\"data\")\n",
    "train_file = data_folder / 'train.json'\n",
    "test_file = data_folder / 'test.json'\n",
    "\n",
    "train = pd.read_json(train_file) \n",
    "print('loaded training '+str(len(train)))\n",
    "#test = pd.read_json(test_file) \n",
    "#print('loaded test '+str(len(train)))\n",
    "\n",
    "y=train['is_iceberg'].values ## convert pandas series to numpy array\n",
    "X=prepare_data(train,dim=[0,1,2],filter_function=filter_guided,rnd=False,scale='img')\n",
    "input_shape= X[0].shape\n",
    "print('filter: guided')"
   ]
  },
  {
   "cell_type": "code",
   "execution_count": 14,
   "metadata": {
    "scrolled": false
   },
   "outputs": [
    {
     "name": "stderr",
     "output_type": "stream",
     "text": [
      "Larger_CNN_64_gn3_large: 100%|██████████| 5/5 [02:35<00:00, 33.61s/it, Acc=85, Epi=104, ROC_AUC=0.935, vloss=0.328]  \n",
      "Larger_CNN_128_gn3_large: 100%|██████████| 5/5 [02:27<00:00, 30.08s/it, Acc=83.4, Epi=92.6, ROC_AUC=0.927, vloss=0.366]\n",
      "Larger_CNN_256_gn3_large: 100%|██████████| 5/5 [02:27<00:00, 30.50s/it, Acc=84, Epi=90.8, ROC_AUC=0.936, vloss=0.338]  \n",
      "Larger_CNN_2x64_gn3_large: 100%|██████████| 5/5 [03:04<00:00, 36.36s/it, Acc=83.5, Epi=116, ROC_AUC=0.928, vloss=0.37] \n",
      "Larger_CNN_2x128_gn3_large: 100%|██████████| 5/5 [02:41<00:00, 33.63s/it, Acc=83.4, Epi=89.6, ROC_AUC=0.932, vloss=0.335]\n",
      "Larger_CNN_2x256_gn3_large: 100%|██████████| 5/5 [02:44<00:00, 31.21s/it, Acc=84.6, Epi=89.6, ROC_AUC=0.927, vloss=0.427]\n",
      "Larger_CNN_bn64_gn3_large: 100%|██████████| 5/5 [01:52<00:00, 23.61s/it, Acc=81.7, Epi=48.4, ROC_AUC=0.928, vloss=0.387]\n",
      "Larger_CNN_bn128_gn3_large: 100%|██████████| 5/5 [02:16<00:00, 27.11s/it, Acc=84.5, Epi=66.2, ROC_AUC=0.933, vloss=0.349]\n",
      "Larger_CNN_bn256_gn3_large: 100%|██████████| 5/5 [01:35<00:00, 19.60s/it, Acc=69.6, Epi=50.4, ROC_AUC=0.853, vloss=1.11] \n",
      "Larger_CNN_bn2x64_gn3_large: 100%|██████████| 5/5 [01:59<00:00, 21.73s/it, Acc=72.7, Epi=63.4, ROC_AUC=0.837, vloss=0.689]\n",
      "Larger_CNN_bn2x128_gn3_large: 100%|██████████| 5/5 [01:32<00:00, 17.98s/it, Acc=80.2, Epi=50.6, ROC_AUC=0.905, vloss=0.427]\n",
      "Larger_CNN_bn2x256_gn3_large: 100%|██████████| 5/5 [01:39<00:00, 20.25s/it, Acc=78.3, Epi=50.8, ROC_AUC=0.89, vloss=0.495] \n"
     ]
    }
   ],
   "source": [
    "grid_search= [\n",
    "              (Larger_CNN(input_shape),'Larger_CNN_64'),\n",
    "              (Larger_CNN(input_shape,width=2),'Larger_CNN_128'),\n",
    "              (Larger_CNN(input_shape,width=4),'Larger_CNN_256'),\n",
    "              (Larger_CNN(input_shape,depth=2),'Larger_CNN_2x64'),\n",
    "              (Larger_CNN(input_shape,width=2,depth=2),'Larger_CNN_2x128'),\n",
    "              (Larger_CNN(input_shape,width=4,depth=2),'Larger_CNN_2x256'),\n",
    "              (Larger_CNN(input_shape,batch_norm=True),'Larger_CNN_bn64'),\n",
    "              (Larger_CNN(input_shape,width=2,batch_norm=True),'Larger_CNN_bn128'),\n",
    "              (Larger_CNN(input_shape,width=4,batch_norm=True),'Larger_CNN_bn256'),\n",
    "              (Larger_CNN(input_shape,depth=2,batch_norm=True),'Larger_CNN_bn2x64'),\n",
    "              (Larger_CNN(input_shape,width=2,depth=2,batch_norm=True),'Larger_CNN_bn2x128'),\n",
    "              (Larger_CNN(input_shape,width=4,depth=2,batch_norm=True),'Larger_CNN_bn2x256')]\n",
    "models_gn3_large=[]\n",
    "results_gn3_large=[]\n",
    "for model, name in grid_search:\n",
    "    name += '_gn3_large'\n",
    "    out = kfold_keras.k_fold_keras_early_stop(model,X,y,k=5,name=name,train_at_end=False,patience=20)\n",
    "    models_gn3_large.append(name)\n",
    "    results_gn3_large.append(out)\n",
    "    \n",
    "\n"
   ]
  },
  {
   "cell_type": "markdown",
   "metadata": {},
   "source": [
    "## No Prefilter, scaling, Larger_CNN model"
   ]
  },
  {
   "cell_type": "code",
   "execution_count": 15,
   "metadata": {},
   "outputs": [
    {
     "name": "stdout",
     "output_type": "stream",
     "text": [
      "loaded training 1604\n"
     ]
    }
   ],
   "source": [
    "data_folder = Path(\"data\")\n",
    "train_file = data_folder / 'train.json'\n",
    "test_file = data_folder / 'test.json'\n",
    "\n",
    "train = pd.read_json(train_file) \n",
    "print('loaded training '+str(len(train)))\n",
    "#test = pd.read_json(test_file) \n",
    "#print('loaded test '+str(len(train)))\n",
    "\n",
    "y=train['is_iceberg'].values ## convert pandas series to numpy array\n",
    "X=prepare_data(train,dim=[0,1,2],filter_function=None,rnd=False,scale='img')\n",
    "input_shape= X[0].shape\n"
   ]
  },
  {
   "cell_type": "code",
   "execution_count": 16,
   "metadata": {
    "scrolled": false
   },
   "outputs": [
    {
     "name": "stderr",
     "output_type": "stream",
     "text": [
      "Larger_CNN_64_gn3_large: 100%|██████████| 5/5 [02:02<00:00, 25.27s/it, Acc=83.7, Epi=91.2, ROC_AUC=0.932, vloss=0.372]\n",
      "Larger_CNN_128_gn3_large: 100%|██████████| 5/5 [02:29<00:00, 29.58s/it, Acc=86.2, Epi=115, ROC_AUC=0.939, vloss=0.381]\n",
      "Larger_CNN_256_gn3_large: 100%|██████████| 5/5 [02:02<00:00, 27.77s/it, Acc=86, Epi=80.4, ROC_AUC=0.945, vloss=0.337]  \n",
      "Larger_CNN_2x64_gn3_large: 100%|██████████| 5/5 [02:43<00:00, 31.99s/it, Acc=86.7, Epi=119, ROC_AUC=0.951, vloss=0.355]\n",
      "Larger_CNN_2x128_gn3_large: 100%|██████████| 5/5 [02:37<00:00, 30.99s/it, Acc=86.9, Epi=105, ROC_AUC=0.95, vloss=0.378] \n",
      "Larger_CNN_2x256_gn3_large: 100%|██████████| 5/5 [01:50<00:00, 23.18s/it, Acc=86.7, Epi=67.4, ROC_AUC=0.95, vloss=0.361] \n",
      "Larger_CNN_bn64_gn3_large: 100%|██████████| 5/5 [01:52<00:00, 23.15s/it, Acc=82.4, Epi=58.8, ROC_AUC=0.916, vloss=0.422]\n",
      "Larger_CNN_bn128_gn3_large: 100%|██████████| 5/5 [01:48<00:00, 22.68s/it, Acc=78.6, Epi=61.8, ROC_AUC=0.921, vloss=0.554]\n",
      "Larger_CNN_bn256_gn3_large: 100%|██████████| 5/5 [01:49<00:00, 21.84s/it, Acc=77.5, Epi=57.4, ROC_AUC=0.92, vloss=0.663] \n",
      "Larger_CNN_bn2x64_gn3_large: 100%|██████████| 5/5 [02:08<00:00, 26.18s/it, Acc=79.1, Epi=72.8, ROC_AUC=0.895, vloss=0.472]\n",
      "Larger_CNN_bn2x128_gn3_large: 100%|██████████| 5/5 [02:08<00:00, 25.73s/it, Acc=72.8, Epi=66, ROC_AUC=0.87, vloss=1.07]   \n",
      "Larger_CNN_bn2x256_gn3_large: 100%|██████████| 5/5 [01:54<00:00, 22.03s/it, Acc=77.2, Epi=57.4, ROC_AUC=0.898, vloss=0.621]\n"
     ]
    }
   ],
   "source": [
    "grid_search= [\n",
    "              (Larger_CNN(input_shape),'Larger_CNN_64'),\n",
    "              (Larger_CNN(input_shape,width=2),'Larger_CNN_128'),\n",
    "              (Larger_CNN(input_shape,width=4),'Larger_CNN_256'),\n",
    "              (Larger_CNN(input_shape,depth=2),'Larger_CNN_2x64'),\n",
    "              (Larger_CNN(input_shape,width=2,depth=2),'Larger_CNN_2x128'),\n",
    "              (Larger_CNN(input_shape,width=4,depth=2),'Larger_CNN_2x256'),\n",
    "              (Larger_CNN(input_shape,batch_norm=True),'Larger_CNN_bn64'),\n",
    "              (Larger_CNN(input_shape,width=2,batch_norm=True),'Larger_CNN_bn128'),\n",
    "              (Larger_CNN(input_shape,width=4,batch_norm=True),'Larger_CNN_bn256'),\n",
    "              (Larger_CNN(input_shape,depth=2,batch_norm=True),'Larger_CNN_bn2x64'),\n",
    "              (Larger_CNN(input_shape,width=2,depth=2,batch_norm=True),'Larger_CNN_bn2x128'),\n",
    "              (Larger_CNN(input_shape,width=4,depth=2,batch_norm=True),'Larger_CNN_bn2x256')]\n",
    "models_gn3_large=[]\n",
    "results_gn3_large=[]\n",
    "for model, name in grid_search:\n",
    "    name += '_gn3_large'\n",
    "    out = kfold_keras.k_fold_keras_early_stop(model,X,y,k=5,name=name,train_at_end=False,patience=20)\n",
    "    models_gn3_large.append(name)\n",
    "    results_gn3_large.append(out)\n",
    "    \n",
    "\n"
   ]
  },
  {
   "cell_type": "markdown",
   "metadata": {},
   "source": [
    "## No Prefilter, No scaling, Larger_CNN model"
   ]
  },
  {
   "cell_type": "code",
   "execution_count": 17,
   "metadata": {},
   "outputs": [
    {
     "name": "stdout",
     "output_type": "stream",
     "text": [
      "loaded training 1604\n"
     ]
    }
   ],
   "source": [
    "data_folder = Path(\"data\")\n",
    "train_file = data_folder / 'train.json'\n",
    "test_file = data_folder / 'test.json'\n",
    "\n",
    "train = pd.read_json(train_file) \n",
    "print('loaded training '+str(len(train)))\n",
    "#test = pd.read_json(test_file) \n",
    "#print('loaded test '+str(len(train)))\n",
    "\n",
    "y=train['is_iceberg'].values ## convert pandas series to numpy array\n",
    "X=prepare_data(train,dim=[0,1,2],filter_function=None,rnd=False,scale=None)\n",
    "input_shape= X[0].shape\n"
   ]
  },
  {
   "cell_type": "code",
   "execution_count": 18,
   "metadata": {
    "scrolled": false
   },
   "outputs": [
    {
     "name": "stderr",
     "output_type": "stream",
     "text": [
      "Larger_CNN_64_gn3_large: 100%|██████████| 5/5 [02:05<00:00, 26.56s/it, Acc=87.2, Epi=74.8, ROC_AUC=0.947, vloss=0.445]\n",
      "Larger_CNN_128_gn3_large: 100%|██████████| 5/5 [01:45<00:00, 22.44s/it, Acc=87, Epi=70, ROC_AUC=0.953, vloss=0.5]      \n",
      "Larger_CNN_256_gn3_large: 100%|██████████| 5/5 [01:52<00:00, 25.17s/it, Acc=87.1, Epi=80.4, ROC_AUC=0.948, vloss=0.367]\n",
      "Larger_CNN_2x64_gn3_large: 100%|██████████| 5/5 [01:49<00:00, 22.86s/it, Acc=87, Epi=79.2, ROC_AUC=0.952, vloss=0.42] \n",
      "Larger_CNN_2x128_gn3_large: 100%|██████████| 5/5 [01:40<00:00, 19.87s/it, Acc=86.3, Epi=66, ROC_AUC=0.947, vloss=0.545]  \n",
      "Larger_CNN_2x256_gn3_large: 100%|██████████| 5/5 [01:25<00:00, 17.57s/it, Acc=86.5, Epi=54.6, ROC_AUC=0.947, vloss=0.637]\n",
      "Larger_CNN_bn64_gn3_large: 100%|██████████| 5/5 [02:34<00:00, 29.72s/it, Acc=79.6, Epi=52.4, ROC_AUC=0.909, vloss=0.467]\n",
      "Larger_CNN_bn128_gn3_large: 100%|██████████| 5/5 [02:35<00:00, 31.97s/it, Acc=76.1, Epi=52, ROC_AUC=0.89, vloss=0.585] \n",
      "Larger_CNN_bn256_gn3_large: 100%|██████████| 5/5 [02:51<00:00, 35.07s/it, Acc=82.1, Epi=58.2, ROC_AUC=0.921, vloss=0.45] \n",
      "Larger_CNN_bn2x64_gn3_large: 100%|██████████| 5/5 [02:10<00:00, 27.74s/it, Acc=70.8, Epi=41.6, ROC_AUC=0.848, vloss=0.685]\n",
      "Larger_CNN_bn2x128_gn3_large: 100%|██████████| 5/5 [02:58<00:00, 36.31s/it, Acc=76.6, Epi=59.2, ROC_AUC=0.876, vloss=0.518]\n",
      "Larger_CNN_bn2x256_gn3_large: 100%|██████████| 5/5 [03:12<00:00, 36.03s/it, Acc=78.5, Epi=65, ROC_AUC=0.89, vloss=0.524]   \n"
     ]
    }
   ],
   "source": [
    "grid_search= [\n",
    "              (Larger_CNN(input_shape),'Larger_CNN_64'),\n",
    "              (Larger_CNN(input_shape,width=2),'Larger_CNN_128'),\n",
    "              (Larger_CNN(input_shape,width=4),'Larger_CNN_256'),\n",
    "              (Larger_CNN(input_shape,depth=2),'Larger_CNN_2x64'),\n",
    "              (Larger_CNN(input_shape,width=2,depth=2),'Larger_CNN_2x128'),\n",
    "              (Larger_CNN(input_shape,width=4,depth=2),'Larger_CNN_2x256'),\n",
    "              (Larger_CNN(input_shape,batch_norm=True),'Larger_CNN_bn64'),\n",
    "              (Larger_CNN(input_shape,width=2,batch_norm=True),'Larger_CNN_bn128'),\n",
    "              (Larger_CNN(input_shape,width=4,batch_norm=True),'Larger_CNN_bn256'),\n",
    "              (Larger_CNN(input_shape,depth=2,batch_norm=True),'Larger_CNN_bn2x64'),\n",
    "              (Larger_CNN(input_shape,width=2,depth=2,batch_norm=True),'Larger_CNN_bn2x128'),\n",
    "              (Larger_CNN(input_shape,width=4,depth=2,batch_norm=True),'Larger_CNN_bn2x256')]\n",
    "models_gn3_large=[]\n",
    "results_gn3_large=[]\n",
    "for model, name in grid_search:\n",
    "    name += '_gn3_large'\n",
    "    out = kfold_keras.k_fold_keras_early_stop(model,X,y,k=5,name=name,train_at_end=False,patience=20)\n",
    "    models_gn3_large.append(name)\n",
    "    results_gn3_large.append(out)\n",
    "    \n",
    "\n"
   ]
  }
 ],
 "metadata": {
  "kernelspec": {
   "display_name": "Python 3",
   "language": "python",
   "name": "python3"
  },
  "language_info": {
   "codemirror_mode": {
    "name": "ipython",
    "version": 3
   },
   "file_extension": ".py",
   "mimetype": "text/x-python",
   "name": "python",
   "nbconvert_exporter": "python",
   "pygments_lexer": "ipython3",
   "version": "3.6.4"
  },
  "notify_time": "10",
  "toc": {
   "base_numbering": 1,
   "nav_menu": {},
   "number_sections": true,
   "sideBar": true,
   "skip_h1_title": false,
   "title_cell": "Table of Contents",
   "title_sidebar": "Contents",
   "toc_cell": false,
   "toc_position": {
    "height": "calc(100% - 180px)",
    "left": "10px",
    "top": "150px",
    "width": "313px"
   },
   "toc_section_display": true,
   "toc_window_display": false
  }
 },
 "nbformat": 4,
 "nbformat_minor": 2
}
