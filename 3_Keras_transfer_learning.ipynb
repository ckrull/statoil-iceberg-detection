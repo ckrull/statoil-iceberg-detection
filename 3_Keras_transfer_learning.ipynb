{
 "cells": [
  {
   "cell_type": "code",
   "execution_count": 1,
   "metadata": {},
   "outputs": [],
   "source": [
    "%load_ext autoreload\n",
    "%autoreload 2\n",
    "import tensorflow as tf\n",
    "config = tf.ConfigProto()\n",
    "config.gpu_options.allow_growth = True\n",
    "session = tf.Session(config=config)"
   ]
  },
  {
   "cell_type": "code",
   "execution_count": 2,
   "metadata": {},
   "outputs": [
    {
     "name": "stderr",
     "output_type": "stream",
     "text": [
      "Using TensorFlow backend.\n"
     ]
    }
   ],
   "source": [
    "from pathlib import Path\n",
    "\n",
    "import joblib\n",
    "import numpy as np\n",
    "import pandas as pd\n",
    "import seaborn as sns\n",
    "from keras import backend as K\n",
    "from keras import applications, optimizers\n",
    "from keras.callbacks import EarlyStopping\n",
    "from keras.layers import Dense, Dropout, Flatten\n",
    "from keras.models import Model, Sequential\n",
    "from keras.preprocessing.image import ImageDataGenerator\n",
    "from matplotlib import pyplot as plt\n",
    "from sklearn.model_selection import train_test_split\n",
    "\n",
    "import kfold_keras\n",
    "from helper import filter_guided, plot_training_history, prepare_data\n",
    "\n",
    "%config InlineBackend.figure_format = 'retina'\n",
    "%matplotlib inline"
   ]
  },
  {
   "cell_type": "markdown",
   "metadata": {},
   "source": [
    "# Transfer learning ImageNet models\n",
    "In this notebook we used ImageNet models on the Statoil dataset. Based on the size of the images only those models from keras which can directly accept the data without upscaling it. This means VGG16, VGG19 and Xception.\n",
    "\n",
    "Only the best data pretreatment from the experiences with the simpler CNN was used: Guided prefiltering and no image scaling.\n",
    "\n",
    "This was a two stage process:\n",
    "1. The dataset was run through the pretrained Models, with out the top fully connected layer to calculate the *bottleneck features*. These were then used to train a new fully connected layer that has the desired binary output characteristics.\n",
    "2. Again starting with the pretrained models, the last convoltional block was made trainable and the trained model from step 1. was placed on top of the model. Then the model was trained on the dataset.\n",
    "\n",
    "As in the CNN training we used k-fold crossvalidation with early stopping to determine the best model.\n",
    "\n",
    "Which was the fine tuned VGG16:\n",
    "\n",
    "`VGG16_fine_tune     :  Acc=90.8, Epi=40.2, ROC_AUC=0.969, vloss=0.234`"
   ]
  },
  {
   "cell_type": "markdown",
   "metadata": {},
   "source": [
    "##  Load the data: Guided Prefilter, and no scaling"
   ]
  },
  {
   "cell_type": "code",
   "execution_count": 3,
   "metadata": {},
   "outputs": [
    {
     "name": "stdout",
     "output_type": "stream",
     "text": [
      "loaded training 1604\n"
     ]
    }
   ],
   "source": [
    "data_folder = Path(\"data\")\n",
    "train_file = data_folder / 'train.json'\n",
    "test_file = data_folder / 'test.json'\n",
    "\n",
    "train = pd.read_json(train_file) \n",
    "print('loaded training '+str(len(train)))\n",
    "\n",
    "y=train['is_iceberg'].values ## convert pandas series to numpy array\n",
    "X=prepare_data(train,dim=[0,1,2],filter_function=filter_guided,rnd=False,scale=None)\n",
    "input_shape= X[0].shape\n"
   ]
  },
  {
   "cell_type": "markdown",
   "metadata": {},
   "source": [
    "## Transfer learning\n",
    "This is the first step training a fully connected layer using the bottleneck features of the ImageNet models  as input"
   ]
  },
  {
   "cell_type": "markdown",
   "metadata": {},
   "source": [
    "### VGG16 Bottleneck features\n"
   ]
  },
  {
   "cell_type": "code",
   "execution_count": 4,
   "metadata": {},
   "outputs": [
    {
     "name": "stdout",
     "output_type": "stream",
     "text": [
      "Model loaded.\n"
     ]
    },
    {
     "name": "stderr",
     "output_type": "stream",
     "text": [
      "VGG16_bottle        : 100%|██████████| 5/5 [00:07<00:00,  1.46s/it, Acc=74.5, Epi=47, ROC_AUC=0.89, vloss=0.586] \n"
     ]
    }
   ],
   "source": [
    "model = applications.VGG16(weights='imagenet', include_top=False, input_shape=input_shape)\n",
    "print('Model loaded.')\n",
    "\n",
    "bottleneck_features_train = model.predict(X)\n",
    "\n",
    "model = Sequential()\n",
    "model.add(Flatten(input_shape=bottleneck_features_train.shape[1:]))\n",
    "model.add(Dense(256, activation='relu'))\n",
    "model.add(Dropout(0.5))\n",
    "model.add(Dense(1, activation='sigmoid'))\n",
    "\n",
    "model.compile(optimizer='adadelta',loss='binary_crossentropy',metrics=['accuracy'])\n",
    "\n",
    "out = kfold_keras.k_fold_keras_early_stop(model,bottleneck_features_train,y,k=5,\n",
    "                                          name='VGG16_bottle',train_at_end=False,patience=20)\n"
   ]
  },
  {
   "cell_type": "code",
   "execution_count": 5,
   "metadata": {},
   "outputs": [],
   "source": [
    "model.save_weights('VGG16_bottle.h5')\n"
   ]
  },
  {
   "cell_type": "markdown",
   "metadata": {},
   "source": [
    "Saved the last of the CV trained model to init the top model, below"
   ]
  },
  {
   "cell_type": "markdown",
   "metadata": {},
   "source": [
    "###  Xception Bottleneck features"
   ]
  },
  {
   "cell_type": "code",
   "execution_count": 6,
   "metadata": {},
   "outputs": [
    {
     "name": "stdout",
     "output_type": "stream",
     "text": [
      "Model loaded.\n"
     ]
    },
    {
     "name": "stderr",
     "output_type": "stream",
     "text": [
      "Xception_bottle     : 100%|██████████| 5/5 [00:19<00:00,  4.10s/it, Acc=50.5, Epi=28.6, ROC_AUC=0.536, vloss=14.8]\n"
     ]
    }
   ],
   "source": [
    "model = applications.Xception(weights='imagenet', include_top=False, input_shape=input_shape)\n",
    "print('Model loaded.')\n",
    "\n",
    "bottleneck_features_train = model.predict(X)\n",
    "\n",
    "model = Sequential()\n",
    "model.add(Flatten(input_shape=bottleneck_features_train.shape[1:]))\n",
    "model.add(Dense(256, activation='relu'))\n",
    "model.add(Dropout(0.5))\n",
    "model.add(Dense(1, activation='sigmoid'))\n",
    "\n",
    "model.compile(optimizer='adadelta',loss='binary_crossentropy',metrics=['accuracy'])\n",
    "\n",
    "\n",
    "out = kfold_keras.k_fold_keras_early_stop(model,bottleneck_features_train,y,k=5,\n",
    "                                          name='Xception_bottle',train_at_end=False,patience=20)\n"
   ]
  },
  {
   "cell_type": "code",
   "execution_count": 7,
   "metadata": {},
   "outputs": [],
   "source": [
    "model.save_weights('Xception_bottle.h5')"
   ]
  },
  {
   "cell_type": "markdown",
   "metadata": {},
   "source": [
    "Saved the last of the CV trained model to init the top model, below"
   ]
  },
  {
   "cell_type": "markdown",
   "metadata": {},
   "source": [
    "###  VGG19 Bottleneck features"
   ]
  },
  {
   "cell_type": "code",
   "execution_count": 8,
   "metadata": {},
   "outputs": [
    {
     "name": "stdout",
     "output_type": "stream",
     "text": [
      "Model loaded.\n"
     ]
    },
    {
     "name": "stderr",
     "output_type": "stream",
     "text": [
      "VGG19_bottle        : 100%|██████████| 5/5 [00:07<00:00,  1.49s/it, Acc=74.8, Epi=43, ROC_AUC=0.876, vloss=0.57]   \n"
     ]
    }
   ],
   "source": [
    "\n",
    "model = applications.VGG19(weights='imagenet', include_top=False, input_shape=input_shape)\n",
    "print('Model loaded.')\n",
    "\n",
    "bottleneck_features_train = model.predict(X)\n",
    "\n",
    "model = Sequential()\n",
    "model.add(Flatten(input_shape=bottleneck_features_train.shape[1:]))\n",
    "model.add(Dense(256, activation='relu'))\n",
    "model.add(Dropout(0.5))\n",
    "model.add(Dense(1, activation='sigmoid'))\n",
    "\n",
    "model.compile(optimizer='adadelta',loss='binary_crossentropy',metrics=['accuracy'])\n",
    "\n",
    "\n",
    "out = kfold_keras.k_fold_keras_early_stop(model,bottleneck_features_train,y,k=5,\n",
    "                                          name='VGG19_bottle',train_at_end=False,patience=20)\n"
   ]
  },
  {
   "cell_type": "code",
   "execution_count": 9,
   "metadata": {},
   "outputs": [],
   "source": [
    "model.save_weights('VGG19_bottle.h5')"
   ]
  },
  {
   "cell_type": "markdown",
   "metadata": {},
   "source": [
    "Saved the last of the CV trained model to init the top model, below"
   ]
  },
  {
   "cell_type": "markdown",
   "metadata": {},
   "source": [
    "## Fine tuning \n",
    "\n",
    "This is the second step, where we fine tune the last convolutional block and the top fully connected layers. It is crucial for the retraining of the convolutional block that we use the trained top model from the last step. As the strong gradients from a randomly initialised layer would destroy the pretrained weights.\n"
   ]
  },
  {
   "cell_type": "markdown",
   "metadata": {},
   "source": [
    "### VGG16 fine tuning the last convolutional layers\n",
    "\n",
    "As a first preliminary step, we fine tuned the model with just one validation set\n",
    "\n",
    "following the procedure outlined here:\n",
    "\n",
    "1.Chollet, F. Building powerful image classification models using very little data. Available at: https://blog.keras.io/building-powerful-image-classification-models-using-very-little-data.html. (Accessed: 9th July 2018)\n"
   ]
  },
  {
   "cell_type": "code",
   "execution_count": 4,
   "metadata": {},
   "outputs": [
    {
     "name": "stdout",
     "output_type": "stream",
     "text": [
      "Training data: (1122, 75, 75, 3), with (1122,) labels.\n",
      "Validation data: (482, 75, 75, 3), with (482,) labels.\n"
     ]
    }
   ],
   "source": [
    "X_train, X_val, y_train, y_val = train_test_split(X,y, test_size=0.3, random_state=42, stratify=y)\n",
    "print(f'Training data: {X_train.shape}, with {y_train.shape} labels.')\n",
    "print(f'Validation data: {X_val.shape}, with {y_val.shape} labels.')"
   ]
  },
  {
   "cell_type": "code",
   "execution_count": 14,
   "metadata": {},
   "outputs": [],
   "source": [
    "base_model = applications.VGG16(weights='imagenet', include_top=False, input_shape=input_shape)\n",
    "\n",
    "# build a classifier model to put on top of the convolutional model\n",
    "top_model = Sequential()\n",
    "top_model.add(Flatten(input_shape=base_model.output_shape[1:]))\n",
    "top_model.add(Dense(256, activation='relu'))\n",
    "top_model.add(Dropout(0.5))\n",
    "top_model.add(Dense(1, activation='sigmoid'))\n",
    "\n",
    "# note that it is necessary to start with a fully-trained\n",
    "# classifier, including the top classifier,\n",
    "# in order to successfully do fine-tuning\n",
    "top_model.load_weights('VGG16_bottle.h5')\n",
    "\n",
    "# add the model on top of the convolutional base\n",
    "model = Model(inputs= base_model.input, outputs= top_model(base_model.output))\n",
    "\n",
    "# set the first 25 layers (up to the last conv block)\n",
    "# to non-trainable (weights will not be updated)\n",
    "for layer in model.layers[:15]:\n",
    "    layer.trainable = False\n",
    "    \n",
    "# compile the model with a SGD/momentum optimizer\n",
    "# and a very slow learning rate.\n",
    "model.compile(loss='binary_crossentropy',\n",
    "              optimizer=optimizers.SGD(lr=5e-6, momentum=0.9),\n",
    "              metrics=['accuracy'])\n"
   ]
  },
  {
   "cell_type": "code",
   "execution_count": 15,
   "metadata": {
    "scrolled": true
   },
   "outputs": [
    {
     "name": "stdout",
     "output_type": "stream",
     "text": [
      "Train on 1122 samples, validate on 482 samples\n",
      "Epoch 1/50\n",
      " - 1s - loss: 0.3311 - acc: 0.8360 - val_loss: 0.3129 - val_acc: 0.8714\n",
      "Epoch 2/50\n",
      " - 1s - loss: 0.2563 - acc: 0.8841 - val_loss: 0.2792 - val_acc: 0.8921\n",
      "Epoch 3/50\n",
      " - 1s - loss: 0.2525 - acc: 0.8948 - val_loss: 0.2811 - val_acc: 0.8880\n",
      "Epoch 4/50\n",
      " - 1s - loss: 0.2464 - acc: 0.8904 - val_loss: 0.2775 - val_acc: 0.8900\n",
      "Epoch 5/50\n",
      " - 1s - loss: 0.2491 - acc: 0.8904 - val_loss: 0.2787 - val_acc: 0.8859\n",
      "Epoch 6/50\n",
      " - 1s - loss: 0.2411 - acc: 0.8939 - val_loss: 0.2798 - val_acc: 0.8880\n",
      "Epoch 7/50\n",
      " - 1s - loss: 0.2444 - acc: 0.8904 - val_loss: 0.2782 - val_acc: 0.8880\n",
      "Epoch 8/50\n",
      " - 1s - loss: 0.2348 - acc: 0.9029 - val_loss: 0.2743 - val_acc: 0.8942\n",
      "Epoch 9/50\n",
      " - 1s - loss: 0.2222 - acc: 0.9198 - val_loss: 0.2727 - val_acc: 0.8921\n",
      "Epoch 10/50\n",
      " - 1s - loss: 0.2333 - acc: 0.9064 - val_loss: 0.2717 - val_acc: 0.8921\n",
      "Epoch 11/50\n",
      " - 1s - loss: 0.2302 - acc: 0.9064 - val_loss: 0.2711 - val_acc: 0.8921\n",
      "Epoch 12/50\n",
      " - 1s - loss: 0.2285 - acc: 0.9171 - val_loss: 0.2710 - val_acc: 0.8921\n",
      "Epoch 13/50\n",
      " - 1s - loss: 0.2276 - acc: 0.9082 - val_loss: 0.2707 - val_acc: 0.8900\n",
      "Epoch 14/50\n",
      " - 1s - loss: 0.2287 - acc: 0.9082 - val_loss: 0.2698 - val_acc: 0.8900\n",
      "Epoch 15/50\n",
      " - 1s - loss: 0.2260 - acc: 0.9153 - val_loss: 0.2693 - val_acc: 0.8900\n",
      "Epoch 16/50\n",
      " - 1s - loss: 0.2214 - acc: 0.9144 - val_loss: 0.2690 - val_acc: 0.8942\n",
      "Epoch 17/50\n",
      " - 1s - loss: 0.2240 - acc: 0.9046 - val_loss: 0.2681 - val_acc: 0.8942\n",
      "Epoch 18/50\n",
      " - 1s - loss: 0.2192 - acc: 0.9127 - val_loss: 0.2675 - val_acc: 0.8921\n",
      "Epoch 19/50\n",
      " - 1s - loss: 0.2360 - acc: 0.9037 - val_loss: 0.2684 - val_acc: 0.8921\n",
      "Epoch 20/50\n",
      " - 1s - loss: 0.2275 - acc: 0.9091 - val_loss: 0.2694 - val_acc: 0.8942\n",
      "Epoch 21/50\n",
      " - 1s - loss: 0.2198 - acc: 0.9020 - val_loss: 0.2683 - val_acc: 0.8963\n",
      "Epoch 22/50\n",
      " - 1s - loss: 0.2167 - acc: 0.9189 - val_loss: 0.2677 - val_acc: 0.8983\n",
      "Epoch 23/50\n",
      " - 1s - loss: 0.2217 - acc: 0.9037 - val_loss: 0.2679 - val_acc: 0.8983\n",
      "Epoch 24/50\n",
      " - 1s - loss: 0.2190 - acc: 0.9091 - val_loss: 0.2669 - val_acc: 0.8963\n",
      "Epoch 25/50\n",
      " - 1s - loss: 0.2134 - acc: 0.9144 - val_loss: 0.2667 - val_acc: 0.8963\n",
      "Epoch 26/50\n",
      " - 1s - loss: 0.2093 - acc: 0.9180 - val_loss: 0.2672 - val_acc: 0.8963\n",
      "Epoch 27/50\n",
      " - 1s - loss: 0.2070 - acc: 0.9225 - val_loss: 0.2654 - val_acc: 0.8983\n",
      "Epoch 28/50\n",
      " - 1s - loss: 0.2227 - acc: 0.9082 - val_loss: 0.2653 - val_acc: 0.8983\n",
      "Epoch 29/50\n",
      " - 1s - loss: 0.2040 - acc: 0.9314 - val_loss: 0.2658 - val_acc: 0.8963\n",
      "Epoch 30/50\n",
      " - 1s - loss: 0.2032 - acc: 0.9225 - val_loss: 0.2672 - val_acc: 0.8942\n",
      "Epoch 31/50\n",
      " - 1s - loss: 0.2068 - acc: 0.9144 - val_loss: 0.2671 - val_acc: 0.8983\n",
      "Epoch 32/50\n",
      " - 1s - loss: 0.2129 - acc: 0.9162 - val_loss: 0.2652 - val_acc: 0.8963\n",
      "Epoch 33/50\n",
      " - 1s - loss: 0.2046 - acc: 0.9180 - val_loss: 0.2649 - val_acc: 0.8921\n",
      "Epoch 34/50\n",
      " - 1s - loss: 0.2085 - acc: 0.9171 - val_loss: 0.2645 - val_acc: 0.8942\n",
      "Epoch 35/50\n",
      " - 1s - loss: 0.2015 - acc: 0.9225 - val_loss: 0.2654 - val_acc: 0.8963\n",
      "Epoch 36/50\n",
      " - 1s - loss: 0.1995 - acc: 0.9260 - val_loss: 0.2652 - val_acc: 0.8942\n",
      "Epoch 37/50\n",
      " - 1s - loss: 0.2093 - acc: 0.9216 - val_loss: 0.2652 - val_acc: 0.8963\n",
      "Epoch 38/50\n",
      " - 1s - loss: 0.1969 - acc: 0.9278 - val_loss: 0.2653 - val_acc: 0.8963\n",
      "Epoch 39/50\n",
      " - 1s - loss: 0.2035 - acc: 0.9251 - val_loss: 0.2656 - val_acc: 0.8942\n",
      "Epoch 40/50\n",
      " - 1s - loss: 0.1997 - acc: 0.9198 - val_loss: 0.2657 - val_acc: 0.8942\n",
      "Epoch 41/50\n",
      " - 1s - loss: 0.2062 - acc: 0.9180 - val_loss: 0.2668 - val_acc: 0.8921\n",
      "Epoch 42/50\n",
      " - 1s - loss: 0.1963 - acc: 0.9323 - val_loss: 0.2659 - val_acc: 0.8963\n",
      "Epoch 43/50\n",
      " - 1s - loss: 0.1935 - acc: 0.9198 - val_loss: 0.2660 - val_acc: 0.8963\n",
      "Epoch 44/50\n",
      " - 1s - loss: 0.2007 - acc: 0.9260 - val_loss: 0.2652 - val_acc: 0.8942\n",
      "Epoch 45/50\n",
      " - 1s - loss: 0.2019 - acc: 0.9144 - val_loss: 0.2654 - val_acc: 0.8921\n",
      "Epoch 46/50\n",
      " - 1s - loss: 0.2011 - acc: 0.9198 - val_loss: 0.2661 - val_acc: 0.8942\n",
      "Epoch 47/50\n",
      " - 1s - loss: 0.1938 - acc: 0.9242 - val_loss: 0.2660 - val_acc: 0.8942\n",
      "Epoch 48/50\n",
      " - 1s - loss: 0.1919 - acc: 0.9234 - val_loss: 0.2657 - val_acc: 0.8942\n",
      "Epoch 49/50\n",
      " - 1s - loss: 0.1902 - acc: 0.9314 - val_loss: 0.2654 - val_acc: 0.8900\n",
      "Epoch 50/50\n",
      " - 1s - loss: 0.2009 - acc: 0.9234 - val_loss: 0.2655 - val_acc: 0.8921\n"
     ]
    }
   ],
   "source": [
    "from keras.callbacks import ModelCheckpoint  \n",
    "\n",
    "checkpointer = ModelCheckpoint(filepath='saved_models/weights.best.VGG16_fine_tune.hdf5', \n",
    "                               verbose=0, save_best_only=True)\n",
    "training = model.fit(X_train, y_train, validation_data=(X_val, y_val),\n",
    "                                  epochs=50, batch_size=128, callbacks=[checkpointer], verbose=2)    "
   ]
  },
  {
   "cell_type": "code",
   "execution_count": 16,
   "metadata": {},
   "outputs": [
    {
     "name": "stdout",
     "output_type": "stream",
     "text": [
      "Using a smooth window of 3\n"
     ]
    },
    {
     "data": {
      "image/png": "[encoded data removed]",
      "text/plain": [
       "<matplotlib.figure.Figure at 0x7f62285f8dd8>"
      ]
     },
     "metadata": {
      "image/png": {
       "height": 331,
       "width": 449
      }
     },
     "output_type": "display_data"
    }
   ],
   "source": [
    "plot_training_history(training.history,'VGG16 fine tuning')"
   ]
  },
  {
   "cell_type": "code",
   "execution_count": 19,
   "metadata": {},
   "outputs": [],
   "source": [
    "base_model = applications.VGG16(weights='imagenet', include_top=False, input_shape=input_shape)\n",
    "\n",
    "# build a classifier model to put on top of the convolutional model\n",
    "top_model = Sequential()\n",
    "top_model.add(Flatten(input_shape=base_model.output_shape[1:]))\n",
    "top_model.add(Dense(256, activation='relu'))\n",
    "top_model.add(Dropout(0.5))\n",
    "top_model.add(Dense(1, activation='sigmoid'))\n",
    "\n",
    "# note that it is necessary to start with a fully-trained\n",
    "# classifier, including the top classifier,\n",
    "# in order to successfully do fine-tuning\n",
    "top_model.load_weights('VGG16_bottle.h5')\n",
    "\n",
    "# add the model on top of the convolutional base\n",
    "model = Model(inputs= base_model.input, outputs= top_model(base_model.output))\n",
    "\n",
    "# set the first 25 layers (up to the last conv block)\n",
    "# to non-trainable (weights will not be updated)\n",
    "for layer in model.layers[:15]:\n",
    "    layer.trainable = False\n",
    "    \n",
    "# compile the model with a SGD/momentum optimizer\n",
    "# and a very slow learning rate.\n",
    "model.compile(loss='binary_crossentropy',\n",
    "              optimizer=optimizers.SGD(lr=5e-6, momentum=0.9),\n",
    "              metrics=['accuracy'])\n"
   ]
  },
  {
   "cell_type": "code",
   "execution_count": 20,
   "metadata": {},
   "outputs": [
    {
     "name": "stderr",
     "output_type": "stream",
     "text": [
      "VGG16_fine_tune     : 100%|██████████| 5/5 [03:31<00:00, 43.47s/it, Acc=90.8, Epi=40.2, ROC_AUC=0.969, vloss=0.234]\n"
     ]
    }
   ],
   "source": [
    "out = kfold_keras.k_fold_keras_early_stop(model,X,y,k=5,name='VGG16_fine_tune',epochs=200,\n",
    "                                          batch_size=128,train_at_end=False,patience=20)"
   ]
  },
  {
   "cell_type": "markdown",
   "metadata": {},
   "source": [
    "### Xception Fine tuning"
   ]
  },
  {
   "cell_type": "code",
   "execution_count": 21,
   "metadata": {},
   "outputs": [],
   "source": [
    "base_model = applications.Xception(weights='imagenet', include_top=False, input_shape=input_shape)\n",
    "\n",
    "# build a classifier model to put on top of the convolutional model\n",
    "top_model = Sequential()\n",
    "top_model.add(Flatten(input_shape=base_model.output_shape[1:]))\n",
    "top_model.add(Dense(256, activation='relu'))\n",
    "top_model.add(Dropout(0.5))\n",
    "top_model.add(Dense(1, activation='sigmoid'))\n",
    "\n",
    "# note that it is necessary to start with a fully-trained\n",
    "# classifier, including the top classifier,\n",
    "# in order to successfully do fine-tuning\n",
    "top_model.load_weights('Xception_bottle.h5')\n",
    "\n",
    "# add the model on top of the convolutional base\n",
    "model = Model(inputs= base_model.input, outputs= top_model(base_model.output))\n",
    "\n",
    "# set the first 25 layers (up to the last conv block)\n",
    "# to non-trainable (weights will not be updated)\n",
    "for layer in model.layers[:len(model.layers)-7]:\n",
    "    layer.trainable = False\n",
    "    \n",
    "# compile the model with a SGD/momentum optimizer\n",
    "# and a very slow learning rate.\n",
    "model.compile(loss='binary_crossentropy',\n",
    "              optimizer=optimizers.SGD(lr=5e-6, momentum=0.9),\n",
    "              metrics=['accuracy'])"
   ]
  },
  {
   "cell_type": "code",
   "execution_count": 22,
   "metadata": {},
   "outputs": [
    {
     "name": "stderr",
     "output_type": "stream",
     "text": [
      "Xception_fine_tune  : 100%|██████████| 5/5 [02:06<00:00, 25.34s/it, Acc=46.9, Epi=21, ROC_AUC=0.5, vloss=18.3]\n"
     ]
    }
   ],
   "source": [
    "out = kfold_keras.k_fold_keras_early_stop(model,X,y,k=5,name='Xception_fine_tune',epochs=200,\n",
    "                                          batch_size=128,train_at_end=False,patience=20)"
   ]
  },
  {
   "cell_type": "markdown",
   "metadata": {},
   "source": [
    "### VGG19 Fine tuning"
   ]
  },
  {
   "cell_type": "code",
   "execution_count": 23,
   "metadata": {},
   "outputs": [],
   "source": [
    "base_model = applications.VGG19(weights='imagenet', include_top=False, input_shape=input_shape)\n",
    "\n",
    "# build a classifier model to put on top of the convolutional model\n",
    "top_model = Sequential()\n",
    "top_model.add(Flatten(input_shape=base_model.output_shape[1:]))\n",
    "top_model.add(Dense(256, activation='relu'))\n",
    "top_model.add(Dropout(0.5))\n",
    "top_model.add(Dense(1, activation='sigmoid'))\n",
    "\n",
    "# note that it is necessary to start with a fully-trained\n",
    "# classifier, including the top classifier,\n",
    "# in order to successfully do fine-tuning\n",
    "top_model.load_weights('VGG19_bottle.h5')\n",
    "\n",
    "# add the model on top of the convolutional base\n",
    "model = Model(inputs= base_model.input, outputs= top_model(base_model.output))\n",
    "\n",
    "# set the first 25 layers (up to the last conv block)\n",
    "# to non-trainable (weights will not be updated)\n",
    "for layer in model.layers[:17]:\n",
    "    layer.trainable = False\n",
    "    \n",
    "# compile the model with a SGD/momentum optimizer\n",
    "# and a very slow learning rate.\n",
    "model.compile(loss='binary_crossentropy',\n",
    "              optimizer=optimizers.SGD(lr=5e-6, momentum=0.9),\n",
    "              metrics=['accuracy'])"
   ]
  },
  {
   "cell_type": "code",
   "execution_count": 24,
   "metadata": {},
   "outputs": [
    {
     "name": "stderr",
     "output_type": "stream",
     "text": [
      "VGG19_fine_tune     : 100%|██████████| 5/5 [02:54<00:00, 35.86s/it, Acc=90, Epi=28.8, ROC_AUC=0.964, vloss=0.249]  \n"
     ]
    }
   ],
   "source": [
    "out = kfold_keras.k_fold_keras_early_stop(model,X,y,k=5,name='VGG19_fine_tune',epochs=200,batch_size=128,\n",
    "                                          train_at_end=False,patience=20)"
   ]
  },
  {
   "cell_type": "code",
   "execution_count": null,
   "metadata": {},
   "outputs": [],
   "source": []
  }
 ],
 "metadata": {
  "kernelspec": {
   "display_name": "Python 3",
   "language": "python",
   "name": "python3"
  },
  "language_info": {
   "codemirror_mode": {
    "name": "ipython",
    "version": 3
   },
   "file_extension": ".py",
   "mimetype": "text/x-python",
   "name": "python",
   "nbconvert_exporter": "python",
   "pygments_lexer": "ipython3",
   "version": "3.6.4"
  },
  "toc": {
   "base_numbering": 1,
   "nav_menu": {},
   "number_sections": true,
   "sideBar": true,
   "skip_h1_title": false,
   "title_cell": "Table of Contents",
   "title_sidebar": "Contents",
   "toc_cell": false,
   "toc_position": {},
   "toc_section_display": true,
   "toc_window_display": false
  }
 },
 "nbformat": 4,
 "nbformat_minor": 2
}
