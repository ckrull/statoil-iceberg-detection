{
 "cells": [
  {
   "cell_type": "code",
   "execution_count": 15,
   "metadata": {},
   "outputs": [],
   "source": [
    "import tensorflow as tf\n",
    "config = tf.ConfigProto()\n",
    "config.gpu_options.allow_growth = True\n",
    "session = tf.Session(config=config)"
   ]
  },
  {
   "cell_type": "code",
   "execution_count": 16,
   "metadata": {
    "scrolled": true
   },
   "outputs": [],
   "source": [
    "from pathlib import Path\n",
    "\n",
    "import joblib\n",
    "import numpy as np\n",
    "import pandas as pd\n",
    "import seaborn as sns\n",
    "from keras import backend as K\n",
    "from matplotlib import pyplot as plt\n",
    "\n",
    "import helper\n",
    "\n",
    "%config InlineBackend.figure_format = 'retina'\n",
    "%matplotlib inline"
   ]
  },
  {
   "cell_type": "markdown",
   "metadata": {},
   "source": [
    "# Using scikit learn models\n",
    "\n",
    "Here we explore various scikit learn models to detect an iceberg:\n",
    "1. using the image data that is band_1 and band_2\n",
    "2. using the extracted features (the statistical moments) and the incidence angle\n",
    "\n",
    "the image data does "
   ]
  },
  {
   "cell_type": "markdown",
   "metadata": {},
   "source": [
    "## loading the data"
   ]
  },
  {
   "cell_type": "code",
   "execution_count": 17,
   "metadata": {
    "scrolled": true
   },
   "outputs": [
    {
     "name": "stdout",
     "output_type": "stream",
     "text": [
      "loaded training 1604\n",
      "filter: guided  (75, 75, 2)\n"
     ]
    }
   ],
   "source": [
    "data_folder = Path(\"data\")\n",
    "train_file = data_folder / 'train.json'\n",
    "test_file = data_folder / 'test.json'\n",
    "\n",
    "train = pd.read_json(train_file) \n",
    "print('loaded training '+str(len(train)))\n",
    "#test = pd.read_json(test_file) \n",
    "#print('loaded test '+str(len(train)))\n",
    "\n",
    "y=train['is_iceberg'].values ## convert pandas series to numpy array\n",
    "X=helper.prepare_data(train,dim=[0,1],filter_function=helper.filter_guided,rnd=False,scale=None)\n",
    "input_shape= X[0].shape\n",
    "print('filter: guided ',input_shape)"
   ]
  },
  {
   "cell_type": "markdown",
   "metadata": {},
   "source": [
    "- flattening the data for scikit learn models"
   ]
  },
  {
   "cell_type": "code",
   "execution_count": 18,
   "metadata": {
    "scrolled": true
   },
   "outputs": [
    {
     "data": {
      "text/plain": [
       "(1604, 11250)"
      ]
     },
     "execution_count": 18,
     "metadata": {},
     "output_type": "execute_result"
    }
   ],
   "source": [
    "X=X.reshape(1604,75*75*2)\n",
    "X.shape"
   ]
  },
  {
   "cell_type": "markdown",
   "metadata": {},
   "source": [
    "# Image data\n",
    "These grid searches use only the image data\n",
    "\n",
    "## Randomforest"
   ]
  },
  {
   "cell_type": "code",
   "execution_count": 65,
   "metadata": {
    "scrolled": true
   },
   "outputs": [],
   "source": [
    "from sklearn.model_selection import GridSearchCV\n",
    "from sklearn.ensemble import RandomForestClassifier\n",
    "from sklearn.neighbors import KNeighborsClassifier\n",
    "from sklearn.metrics import accuracy_score,make_scorer\n",
    "\n",
    "n_estimators_list = [100,1000,3000]\n",
    "max_depth_list = [5,10,15]\n",
    "param_grid = {'n_estimators': n_estimators_list, 'max_depth' : max_depth_list}\n",
    "estimator = RandomForestClassifier()    \n",
    "gridRF = GridSearchCV(estimator, param_grid, scoring=['accuracy','roc_auc','neg_log_loss'],  n_jobs=12,  cv=5,\n",
    "                      verbose=2,refit='neg_log_loss')"
   ]
  },
  {
   "cell_type": "code",
   "execution_count": 66,
   "metadata": {
    "scrolled": true
   },
   "outputs": [
    {
     "name": "stdout",
     "output_type": "stream",
     "text": [
      "Fitting 5 folds for each of 9 candidates, totalling 45 fits\n",
      "[CV] max_depth=5, n_estimators=100 ...................................\n",
      "[CV] max_depth=5, n_estimators=100 ...................................\n",
      "[CV] max_depth=5, n_estimators=100 ...................................\n",
      "[CV] max_depth=5, n_estimators=100 ...................................\n",
      "[CV] max_depth=5, n_estimators=100 ...................................\n",
      "[CV] max_depth=5, n_estimators=1000 ..................................\n",
      "[CV] max_depth=5, n_estimators=1000 ..................................\n",
      "[CV] max_depth=5, n_estimators=1000 ..................................\n",
      "[CV] max_depth=5, n_estimators=1000 ..................................\n",
      "[CV] max_depth=5, n_estimators=1000 ..................................\n",
      "[CV] max_depth=5, n_estimators=3000 ..................................\n",
      "[CV] max_depth=5, n_estimators=3000 ..................................\n",
      "[CV] .................... max_depth=5, n_estimators=100, total=   4.5s\n",
      "[CV] max_depth=5, n_estimators=3000 ..................................\n",
      "[CV] .................... max_depth=5, n_estimators=100, total=   4.4s\n",
      "[CV] .................... max_depth=5, n_estimators=100, total=   4.5s\n",
      "[CV] max_depth=5, n_estimators=3000 ..................................\n",
      "[CV] max_depth=5, n_estimators=3000 ..................................\n",
      "[CV] .................... max_depth=5, n_estimators=100, total=   4.5s\n",
      "[CV] .................... max_depth=5, n_estimators=100, total=   4.3s\n",
      "[CV] max_depth=10, n_estimators=100 ..................................\n",
      "[CV] max_depth=10, n_estimators=100 ..................................\n",
      "[CV] ................... max_depth=10, n_estimators=100, total=   7.6s\n",
      "[CV] max_depth=10, n_estimators=100 ..................................\n",
      "[CV] ................... max_depth=10, n_estimators=100, total=   7.8s\n",
      "[CV] max_depth=10, n_estimators=100 ..................................\n",
      "[CV] ................... max_depth=10, n_estimators=100, total=   7.5s\n",
      "[CV] max_depth=10, n_estimators=100 ..................................\n",
      "[CV] ................... max_depth=10, n_estimators=100, total=   7.8s\n",
      "[CV] max_depth=10, n_estimators=1000 .................................\n",
      "[CV] ................... max_depth=10, n_estimators=100, total=   7.7s\n",
      "[CV] max_depth=10, n_estimators=1000 .................................\n",
      "[CV] ................... max_depth=5, n_estimators=1000, total=  45.6s\n",
      "[CV] ................... max_depth=5, n_estimators=1000, total=  46.3s\n",
      "[CV] max_depth=10, n_estimators=1000 .................................\n",
      "[CV] max_depth=10, n_estimators=1000 .................................\n",
      "[CV] ................... max_depth=5, n_estimators=1000, total=  46.1s\n",
      "[CV] max_depth=10, n_estimators=1000 .................................\n",
      "[CV] ................... max_depth=5, n_estimators=1000, total=  46.8s\n",
      "[CV] max_depth=10, n_estimators=3000 .................................\n",
      "[CV] ................... max_depth=5, n_estimators=1000, total=  46.4s\n",
      "[CV] max_depth=10, n_estimators=3000 .................................\n",
      "[CV] .................. max_depth=10, n_estimators=1000, total= 1.2min\n",
      "[CV] max_depth=10, n_estimators=3000 .................................\n",
      "[CV] .................. max_depth=10, n_estimators=1000, total= 1.3min\n",
      "[CV] max_depth=10, n_estimators=3000 .................................\n"
     ]
    },
    {
     "name": "stderr",
     "output_type": "stream",
     "text": [
      "[Parallel(n_jobs=12)]: Done  17 tasks      | elapsed:  1.8min\n"
     ]
    },
    {
     "name": "stdout",
     "output_type": "stream",
     "text": [
      "[CV] .................. max_depth=10, n_estimators=1000, total= 1.2min\n",
      "[CV] max_depth=10, n_estimators=3000 .................................\n",
      "[CV] .................. max_depth=10, n_estimators=1000, total= 1.3min\n",
      "[CV] max_depth=15, n_estimators=100 ..................................\n",
      "[CV] .................. max_depth=10, n_estimators=1000, total= 1.3min\n",
      "[CV] max_depth=15, n_estimators=100 ..................................\n",
      "[CV] ................... max_depth=15, n_estimators=100, total=   8.8s\n",
      "[CV] max_depth=15, n_estimators=100 ..................................\n",
      "[CV] ................... max_depth=15, n_estimators=100, total=   9.0s\n",
      "[CV] max_depth=15, n_estimators=100 ..................................\n",
      "[CV] ................... max_depth=15, n_estimators=100, total=   9.3s\n",
      "[CV] max_depth=15, n_estimators=100 ..................................\n",
      "[CV] ................... max_depth=15, n_estimators=100, total=   8.9s\n",
      "[CV] max_depth=15, n_estimators=1000 .................................\n",
      "[CV] ................... max_depth=5, n_estimators=3000, total= 2.3min\n",
      "[CV] max_depth=15, n_estimators=1000 .................................\n",
      "[CV] ................... max_depth=5, n_estimators=3000, total= 2.3min\n",
      "[CV] max_depth=15, n_estimators=1000 .................................\n",
      "[CV] ................... max_depth=5, n_estimators=3000, total= 2.3min\n",
      "[CV] max_depth=15, n_estimators=1000 .................................\n",
      "[CV] ................... max_depth=5, n_estimators=3000, total= 2.3min\n",
      "[CV] max_depth=15, n_estimators=1000 .................................\n",
      "[CV] ................... max_depth=5, n_estimators=3000, total= 2.3min\n",
      "[CV] max_depth=15, n_estimators=3000 .................................\n",
      "[CV] ................... max_depth=15, n_estimators=100, total=   9.5s\n",
      "[CV] max_depth=15, n_estimators=3000 .................................\n",
      "[CV] .................. max_depth=15, n_estimators=1000, total= 1.4min\n",
      "[CV] max_depth=15, n_estimators=3000 .................................\n",
      "[CV] .................. max_depth=15, n_estimators=1000, total= 1.5min\n",
      "[CV] max_depth=15, n_estimators=3000 .................................\n",
      "[CV] .................. max_depth=15, n_estimators=1000, total= 1.5min\n",
      "[CV] max_depth=15, n_estimators=3000 .................................\n",
      "[CV] .................. max_depth=15, n_estimators=1000, total= 1.5min\n",
      "[CV] .................. max_depth=15, n_estimators=1000, total= 1.5min\n",
      "[CV] .................. max_depth=10, n_estimators=3000, total= 3.7min\n",
      "[CV] .................. max_depth=10, n_estimators=3000, total= 3.7min\n",
      "[CV] .................. max_depth=10, n_estimators=3000, total= 3.5min\n",
      "[CV] .................. max_depth=10, n_estimators=3000, total= 3.6min\n",
      "[CV] .................. max_depth=10, n_estimators=3000, total= 3.5min\n",
      "[CV] .................. max_depth=15, n_estimators=3000, total= 3.7min\n",
      "[CV] .................. max_depth=15, n_estimators=3000, total= 3.7min\n",
      "[CV] .................. max_depth=15, n_estimators=3000, total= 3.2min\n",
      "[CV] .................. max_depth=15, n_estimators=3000, total= 3.3min\n",
      "[CV] .................. max_depth=15, n_estimators=3000, total= 3.3min\n"
     ]
    },
    {
     "name": "stderr",
     "output_type": "stream",
     "text": [
      "[Parallel(n_jobs=12)]: Done  45 out of  45 | elapsed:  7.3min remaining:    0.0s\n",
      "[Parallel(n_jobs=12)]: Done  45 out of  45 | elapsed:  7.3min finished\n"
     ]
    },
    {
     "data": {
      "text/plain": [
       "GridSearchCV(cv=5, error_score='raise',\n",
       "       estimator=RandomForestClassifier(bootstrap=True, class_weight=None, criterion='gini',\n",
       "            max_depth=None, max_features='auto', max_leaf_nodes=None,\n",
       "            min_impurity_decrease=0.0, min_impurity_split=None,\n",
       "            min_samples_leaf=1, min_samples_split=2,\n",
       "            min_weight_fraction_leaf=0.0, n_estimators=10, n_jobs=1,\n",
       "            oob_score=False, random_state=None, verbose=0,\n",
       "            warm_start=False),\n",
       "       fit_params=None, iid=True, n_jobs=12,\n",
       "       param_grid={'n_estimators': [100, 1000, 3000], 'max_depth': [5, 10, 15]},\n",
       "       pre_dispatch='2*n_jobs', refit='neg_log_loss',\n",
       "       return_train_score='warn',\n",
       "       scoring=['accuracy', 'roc_auc', 'neg_log_loss'], verbose=2)"
      ]
     },
     "execution_count": 66,
     "metadata": {},
     "output_type": "execute_result"
    }
   ],
   "source": [
    "gridRF.fit(X,y)"
   ]
  },
  {
   "cell_type": "code",
   "execution_count": 67,
   "metadata": {},
   "outputs": [],
   "source": [
    "results=gridRF.cv_results_\n"
   ]
  },
  {
   "cell_type": "code",
   "execution_count": 68,
   "metadata": {
    "scrolled": true
   },
   "outputs": [
    {
     "name": "stdout",
     "output_type": "stream",
     "text": [
      "The best estimator scored:\n",
      "mean_test_roc_auc 0.8773\n",
      "mean_test_accuracy 0.7936\n",
      "mean_test_neg_log_loss -0.4796\n"
     ]
    }
   ],
   "source": [
    "print ( 'The best estimator scored:')\n",
    "scores_names=['mean_test_roc_auc','mean_test_accuracy','mean_test_neg_log_loss']\n",
    "best=np.argmax(results['mean_test_neg_log_loss'])\n",
    "for s in scores_names:\n",
    "    print(s,round(results[s][best],4))"
   ]
  },
  {
   "cell_type": "code",
   "execution_count": 71,
   "metadata": {
    "scrolled": true
   },
   "outputs": [
    {
     "data": {
      "text/plain": [
       "RandomForestClassifier(bootstrap=True, class_weight=None, criterion='gini',\n",
       "            max_depth=15, max_features='auto', max_leaf_nodes=None,\n",
       "            min_impurity_decrease=0.0, min_impurity_split=None,\n",
       "            min_samples_leaf=1, min_samples_split=2,\n",
       "            min_weight_fraction_leaf=0.0, n_estimators=3000, n_jobs=1,\n",
       "            oob_score=False, random_state=None, verbose=0,\n",
       "            warm_start=False)"
      ]
     },
     "execution_count": 71,
     "metadata": {},
     "output_type": "execute_result"
    }
   ],
   "source": [
    "gridRF.best_estimator_"
   ]
  },
  {
   "cell_type": "code",
   "execution_count": 73,
   "metadata": {
    "scrolled": true
   },
   "outputs": [],
   "source": [
    "rndforest= RandomForestClassifier(bootstrap=True, class_weight=None, criterion='gini',\n",
    "            max_depth=15, max_features='auto', max_leaf_nodes=None,\n",
    "            min_impurity_decrease=0.0, min_impurity_split=None,\n",
    "            min_samples_leaf=1, min_samples_split=2,\n",
    "            min_weight_fraction_leaf=0.0, n_estimators=3000, n_jobs=1,\n",
    "            oob_score=False, random_state=None, verbose=0,\n",
    "            warm_start=False)"
   ]
  },
  {
   "cell_type": "markdown",
   "metadata": {},
   "source": [
    "## K NN"
   ]
  },
  {
   "cell_type": "code",
   "execution_count": 75,
   "metadata": {
    "scrolled": true
   },
   "outputs": [
    {
     "name": "stdout",
     "output_type": "stream",
     "text": [
      "Fitting 5 folds for each of 12 candidates, totalling 60 fits\n",
      "[CV] n_neighbors=3, p=1, weights=uniform .............................\n",
      "[CV] n_neighbors=3, p=1, weights=uniform .............................\n",
      "[CV] n_neighbors=3, p=1, weights=uniform .............................\n",
      "[CV] n_neighbors=3, p=1, weights=uniform .............................\n",
      "[CV] .............. n_neighbors=3, p=1, weights=uniform, total=  12.2s\n",
      "[CV] n_neighbors=3, p=1, weights=uniform .............................\n",
      "[CV] .............. n_neighbors=3, p=1, weights=uniform, total=  12.1s\n",
      "[CV] n_neighbors=3, p=1, weights=distance ............................\n",
      "[CV] .............. n_neighbors=3, p=1, weights=uniform, total=  12.8s\n",
      "[CV] n_neighbors=3, p=1, weights=distance ............................\n",
      "[CV] .............. n_neighbors=3, p=1, weights=uniform, total=  13.1s\n",
      "[CV] n_neighbors=3, p=1, weights=distance ............................\n",
      "[CV] ............. n_neighbors=3, p=1, weights=distance, total=  13.3s\n",
      "[CV] n_neighbors=3, p=1, weights=distance ............................\n",
      "[CV] .............. n_neighbors=3, p=1, weights=uniform, total=  13.0s\n",
      "[CV] n_neighbors=3, p=1, weights=distance ............................\n",
      "[CV] ............. n_neighbors=3, p=1, weights=distance, total=  13.2s\n",
      "[CV] n_neighbors=3, p=2, weights=uniform .............................\n",
      "[CV] ............. n_neighbors=3, p=1, weights=distance, total=  14.2s\n",
      "[CV] n_neighbors=3, p=2, weights=uniform .............................\n",
      "[CV] .............. n_neighbors=3, p=2, weights=uniform, total=  12.3s\n",
      "[CV] n_neighbors=3, p=2, weights=uniform .............................\n",
      "[CV] .............. n_neighbors=3, p=2, weights=uniform, total=  12.4s\n",
      "[CV] n_neighbors=3, p=2, weights=uniform .............................\n",
      "[CV] ............. n_neighbors=3, p=1, weights=distance, total=  12.6s\n",
      "[CV] n_neighbors=3, p=2, weights=uniform .............................\n",
      "[CV] ............. n_neighbors=3, p=1, weights=distance, total=  12.7s\n",
      "[CV] n_neighbors=3, p=2, weights=distance ............................\n",
      "[CV] .............. n_neighbors=3, p=2, weights=uniform, total=  12.3s\n",
      "[CV] n_neighbors=3, p=2, weights=distance ............................\n",
      "[CV] .............. n_neighbors=3, p=2, weights=uniform, total=  11.9s\n",
      "[CV] n_neighbors=3, p=2, weights=distance ............................\n",
      "[CV] .............. n_neighbors=3, p=2, weights=uniform, total=  12.1s\n",
      "[CV] n_neighbors=3, p=2, weights=distance ............................\n",
      "[CV] ............. n_neighbors=3, p=2, weights=distance, total=  12.0s\n",
      "[CV] n_neighbors=3, p=2, weights=distance ............................\n",
      "[CV] ............. n_neighbors=3, p=2, weights=distance, total=  12.0s\n",
      "[CV] n_neighbors=5, p=1, weights=uniform .............................\n",
      "[CV] ............. n_neighbors=3, p=2, weights=distance, total=  12.1s\n",
      "[CV] n_neighbors=5, p=1, weights=uniform .............................\n",
      "[CV] ............. n_neighbors=3, p=2, weights=distance, total=  12.3s\n",
      "[CV] n_neighbors=5, p=1, weights=uniform .............................\n",
      "[CV] ............. n_neighbors=3, p=2, weights=distance, total=  12.7s\n",
      "[CV] n_neighbors=5, p=1, weights=uniform .............................\n",
      "[CV] .............. n_neighbors=5, p=1, weights=uniform, total=  11.8s\n",
      "[CV] n_neighbors=5, p=1, weights=uniform .............................\n",
      "[CV] .............. n_neighbors=5, p=1, weights=uniform, total=  12.1s\n",
      "[CV] n_neighbors=5, p=1, weights=distance ............................\n",
      "[CV] .............. n_neighbors=5, p=1, weights=uniform, total=  12.4s\n",
      "[CV] n_neighbors=5, p=1, weights=distance ............................\n",
      "[CV] .............. n_neighbors=5, p=1, weights=uniform, total=  12.9s\n",
      "[CV] n_neighbors=5, p=1, weights=distance ............................\n",
      "[CV] .............. n_neighbors=5, p=1, weights=uniform, total=  12.0s\n",
      "[CV] n_neighbors=5, p=1, weights=distance ............................\n",
      "[CV] ............. n_neighbors=5, p=1, weights=distance, total=  12.1s\n",
      "[CV] n_neighbors=5, p=1, weights=distance ............................\n",
      "[CV] ............. n_neighbors=5, p=1, weights=distance, total=  12.2s\n",
      "[CV] n_neighbors=5, p=2, weights=uniform .............................\n",
      "[CV] ............. n_neighbors=5, p=1, weights=distance, total=  12.9s\n",
      "[CV] n_neighbors=5, p=2, weights=uniform .............................\n",
      "[CV] .............. n_neighbors=5, p=2, weights=uniform, total=  11.7s\n",
      "[CV] n_neighbors=5, p=2, weights=uniform .............................\n",
      "[CV] ............. n_neighbors=5, p=1, weights=distance, total=  12.1s\n",
      "[CV] n_neighbors=5, p=2, weights=uniform .............................\n",
      "[CV] ............. n_neighbors=5, p=1, weights=distance, total=  11.9s\n",
      "[CV] n_neighbors=5, p=2, weights=uniform .............................\n",
      "[CV] .............. n_neighbors=5, p=2, weights=uniform, total=  11.4s\n",
      "[CV] n_neighbors=5, p=2, weights=distance ............................\n",
      "[CV] .............. n_neighbors=5, p=2, weights=uniform, total=  11.8s\n",
      "[CV] n_neighbors=5, p=2, weights=distance ............................\n"
     ]
    },
    {
     "name": "stderr",
     "output_type": "stream",
     "text": [
      "[Parallel(n_jobs=4)]: Done  33 tasks      | elapsed:  8.9min\n"
     ]
    },
    {
     "name": "stdout",
     "output_type": "stream",
     "text": [
      "[CV] .............. n_neighbors=5, p=2, weights=uniform, total=  11.5s\n",
      "[CV] n_neighbors=5, p=2, weights=distance ............................\n",
      "[CV] .............. n_neighbors=5, p=2, weights=uniform, total=  11.7s\n",
      "[CV] n_neighbors=5, p=2, weights=distance ............................\n",
      "[CV] ............. n_neighbors=5, p=2, weights=distance, total=  11.7s\n",
      "[CV] n_neighbors=5, p=2, weights=distance ............................\n",
      "[CV] ............. n_neighbors=5, p=2, weights=distance, total=  11.4s\n",
      "[CV] n_neighbors=7, p=1, weights=uniform .............................\n",
      "[CV] ............. n_neighbors=5, p=2, weights=distance, total=  11.9s\n",
      "[CV] n_neighbors=7, p=1, weights=uniform .............................\n",
      "[CV] ............. n_neighbors=5, p=2, weights=distance, total=  12.4s\n",
      "[CV] n_neighbors=7, p=1, weights=uniform .............................\n",
      "[CV] ............. n_neighbors=5, p=2, weights=distance, total=  12.4s\n",
      "[CV] n_neighbors=7, p=1, weights=uniform .............................\n",
      "[CV] .............. n_neighbors=7, p=1, weights=uniform, total=  12.3s\n",
      "[CV] n_neighbors=7, p=1, weights=uniform .............................\n",
      "[CV] .............. n_neighbors=7, p=1, weights=uniform, total=  12.6s\n",
      "[CV] n_neighbors=7, p=1, weights=distance ............................\n",
      "[CV] .............. n_neighbors=7, p=1, weights=uniform, total=  12.5s\n",
      "[CV] n_neighbors=7, p=1, weights=distance ............................\n",
      "[CV] .............. n_neighbors=7, p=1, weights=uniform, total=  12.9s\n",
      "[CV] n_neighbors=7, p=1, weights=distance ............................\n",
      "[CV] .............. n_neighbors=7, p=1, weights=uniform, total=  11.7s\n",
      "[CV] n_neighbors=7, p=1, weights=distance ............................\n",
      "[CV] ............. n_neighbors=7, p=1, weights=distance, total=  12.2s\n",
      "[CV] n_neighbors=7, p=1, weights=distance ............................\n",
      "[CV] ............. n_neighbors=7, p=1, weights=distance, total=  12.4s\n",
      "[CV] n_neighbors=7, p=2, weights=uniform .............................\n",
      "[CV] ............. n_neighbors=7, p=1, weights=distance, total=  12.9s\n",
      "[CV] n_neighbors=7, p=2, weights=uniform .............................\n",
      "[CV] ............. n_neighbors=7, p=1, weights=distance, total=  12.5s\n",
      "[CV] n_neighbors=7, p=2, weights=uniform .............................\n",
      "[CV] ............. n_neighbors=7, p=1, weights=distance, total=  12.6s\n",
      "[CV] n_neighbors=7, p=2, weights=uniform .............................\n",
      "[CV] .............. n_neighbors=7, p=2, weights=uniform, total=  12.1s\n",
      "[CV] n_neighbors=7, p=2, weights=uniform .............................\n",
      "[CV] .............. n_neighbors=7, p=2, weights=uniform, total=  12.2s\n",
      "[CV] n_neighbors=7, p=2, weights=distance ............................\n",
      "[CV] .............. n_neighbors=7, p=2, weights=uniform, total=  11.7s\n",
      "[CV] n_neighbors=7, p=2, weights=distance ............................\n",
      "[CV] .............. n_neighbors=7, p=2, weights=uniform, total=  11.7s\n",
      "[CV] n_neighbors=7, p=2, weights=distance ............................\n",
      "[CV] ............. n_neighbors=7, p=2, weights=distance, total=  11.9s\n",
      "[CV] n_neighbors=7, p=2, weights=distance ............................\n",
      "[CV] .............. n_neighbors=7, p=2, weights=uniform, total=  11.9s\n",
      "[CV] n_neighbors=7, p=2, weights=distance ............................\n",
      "[CV] ............. n_neighbors=7, p=2, weights=distance, total=  11.2s\n",
      "[CV] ............. n_neighbors=7, p=2, weights=distance, total=  11.7s\n",
      "[CV] ............. n_neighbors=7, p=2, weights=distance, total=  11.9s\n",
      "[CV] ............. n_neighbors=7, p=2, weights=distance, total=  11.8s\n"
     ]
    },
    {
     "name": "stderr",
     "output_type": "stream",
     "text": [
      "[Parallel(n_jobs=4)]: Done  60 out of  60 | elapsed: 14.8min finished\n"
     ]
    },
    {
     "data": {
      "text/plain": [
       "GridSearchCV(cv=5, error_score='raise',\n",
       "       estimator=KNeighborsClassifier(algorithm='auto', leaf_size=30, metric='minkowski',\n",
       "           metric_params=None, n_jobs=3, n_neighbors=5, p=2,\n",
       "           weights='uniform'),\n",
       "       fit_params=None, iid=True, n_jobs=4,\n",
       "       param_grid={'n_neighbors': [3, 5, 7], 'weights': ['uniform', 'distance'], 'p': [1, 2]},\n",
       "       pre_dispatch='2*n_jobs', refit='neg_log_loss',\n",
       "       return_train_score='warn',\n",
       "       scoring=['accuracy', 'roc_auc', 'neg_log_loss'], verbose=2)"
      ]
     },
     "execution_count": 75,
     "metadata": {},
     "output_type": "execute_result"
    }
   ],
   "source": [
    "n_neighbors_list = [3,5,7]\n",
    "weights_list = ['uniform', 'distance']\n",
    "p_list = [1,2]\n",
    "param_grid = {'n_neighbors': n_neighbors_list, 'weights' : weights_list,'p':p_list}\n",
    "estimator = KNeighborsClassifier(n_jobs=3)    \n",
    "gridKNN = GridSearchCV(estimator, param_grid, scoring=['accuracy','roc_auc','neg_log_loss'],  n_jobs=4,  cv=5,\n",
    "                      verbose=2,refit='neg_log_loss')\n",
    "\n",
    "gridKNN.fit(X,y)"
   ]
  },
  {
   "cell_type": "code",
   "execution_count": 76,
   "metadata": {
    "scrolled": true
   },
   "outputs": [
    {
     "name": "stdout",
     "output_type": "stream",
     "text": [
      "The best estimator scored:\n",
      "mean_test_roc_auc 0.808\n",
      "mean_test_accuracy 0.7113\n",
      "mean_test_neg_log_loss -1.0175\n"
     ]
    }
   ],
   "source": [
    "results=gridKNN.cv_results_\n",
    "print ( 'The best estimator scored:')\n",
    "scores_names=['mean_test_roc_auc','mean_test_accuracy','mean_test_neg_log_loss']\n",
    "best=np.argmax(results['mean_test_neg_log_loss'])\n",
    "for s in scores_names:\n",
    "    print(s,round(results[s][best],4))"
   ]
  },
  {
   "cell_type": "code",
   "execution_count": 77,
   "metadata": {
    "scrolled": true
   },
   "outputs": [
    {
     "data": {
      "text/plain": [
       "KNeighborsClassifier(algorithm='auto', leaf_size=30, metric='minkowski',\n",
       "           metric_params=None, n_jobs=3, n_neighbors=7, p=1,\n",
       "           weights='distance')"
      ]
     },
     "execution_count": 77,
     "metadata": {},
     "output_type": "execute_result"
    }
   ],
   "source": [
    "gridKNN.best_estimator_"
   ]
  },
  {
   "cell_type": "code",
   "execution_count": 78,
   "metadata": {
    "scrolled": true
   },
   "outputs": [],
   "source": [
    "kNN= KNeighborsClassifier(algorithm='auto', leaf_size=30, metric='minkowski',\n",
    "           metric_params=None, n_jobs=3, n_neighbors=3, p=2,\n",
    "           weights='uniform')"
   ]
  },
  {
   "cell_type": "markdown",
   "metadata": {},
   "source": [
    "# Using only extracted features\n",
    "In this section we use only the extracted moments and the incidence angle data. The instances that have missing values for the incidence angle are dropped\n"
   ]
  },
  {
   "cell_type": "markdown",
   "metadata": {},
   "source": [
    "## Using only extracted features"
   ]
  },
  {
   "cell_type": "code",
   "execution_count": 80,
   "metadata": {
    "scrolled": true
   },
   "outputs": [],
   "source": [
    "train_angle = train.where(train['inc_angle'] != 'na')\n",
    "y=train_angle['is_iceberg'].dropna(how='all')\n",
    "X=train_angle.drop(['is_iceberg','band_1','band_2','id'],axis=1).dropna(how='all')"
   ]
  },
  {
   "cell_type": "code",
   "execution_count": 81,
   "metadata": {
    "scrolled": true
   },
   "outputs": [],
   "source": [
    "n_estimators_list = [100,1000,2000,3000]\n",
    "max_depth_list = [5,10,12,15,20]\n",
    "param_grid = {'n_estimators': n_estimators_list, 'max_depth' : max_depth_list}\n",
    "estimator = RandomForestClassifier()    \n",
    "gridRF_extract = GridSearchCV(estimator, param_grid, scoring=['accuracy','roc_auc','neg_log_loss'],  n_jobs=12,  cv=5,\n",
    "                      verbose=2,refit='neg_log_loss')"
   ]
  },
  {
   "cell_type": "code",
   "execution_count": 82,
   "metadata": {
    "scrolled": true
   },
   "outputs": [
    {
     "name": "stdout",
     "output_type": "stream",
     "text": [
      "Fitting 5 folds for each of 20 candidates, totalling 100 fits\n",
      "[CV] max_depth=5, n_estimators=100 ...................................\n",
      "[CV] max_depth=5, n_estimators=100 ...................................\n",
      "[CV] max_depth=5, n_estimators=100 ...................................\n",
      "[CV] max_depth=5, n_estimators=100 ...................................\n",
      "[CV] max_depth=5, n_estimators=100 ...................................\n",
      "[CV] max_depth=5, n_estimators=1000 ..................................\n",
      "[CV] max_depth=5, n_estimators=1000 ..................................\n",
      "[CV] max_depth=5, n_estimators=1000 ..................................\n",
      "[CV] max_depth=5, n_estimators=1000 ..................................\n",
      "[CV] max_depth=5, n_estimators=2000 ..................................\n",
      "[CV] max_depth=5, n_estimators=2000 ..................................\n",
      "[CV] max_depth=5, n_estimators=1000 ..................................\n",
      "[CV] .................... max_depth=5, n_estimators=100, total=   0.2s\n",
      "[CV] max_depth=5, n_estimators=2000 ..................................\n",
      "[CV] .................... max_depth=5, n_estimators=100, total=   0.2s\n",
      "[CV] .................... max_depth=5, n_estimators=100, total=   0.2s\n",
      "[CV] .................... max_depth=5, n_estimators=100, total=   0.2s\n",
      "[CV] max_depth=5, n_estimators=2000 ..................................\n",
      "[CV] max_depth=5, n_estimators=3000 ..................................\n",
      "[CV] .................... max_depth=5, n_estimators=100, total=   0.2s\n",
      "[CV] max_depth=5, n_estimators=2000 ..................................\n",
      "[CV] max_depth=5, n_estimators=3000 ..................................\n",
      "[CV] ................... max_depth=5, n_estimators=1000, total=   1.9s\n",
      "[CV] ................... max_depth=5, n_estimators=1000, total=   1.9s\n",
      "[CV] max_depth=5, n_estimators=3000 ..................................\n",
      "[CV] max_depth=5, n_estimators=3000 ..................................\n",
      "[CV] ................... max_depth=5, n_estimators=1000, total=   1.9s\n",
      "[CV] ................... max_depth=5, n_estimators=1000, total=   2.0s\n",
      "[CV] max_depth=5, n_estimators=3000 ..................................\n",
      "[CV] max_depth=10, n_estimators=100 ..................................\n",
      "[CV] ................... max_depth=5, n_estimators=1000, total=   2.0s\n",
      "[CV] max_depth=10, n_estimators=100 ..................................\n",
      "[CV] ................... max_depth=10, n_estimators=100, total=   0.2s\n",
      "[CV] max_depth=10, n_estimators=100 ..................................\n",
      "[CV] ................... max_depth=10, n_estimators=100, total=   0.3s\n",
      "[CV] max_depth=10, n_estimators=100 ..................................\n",
      "[CV] ................... max_depth=10, n_estimators=100, total=   0.2s\n",
      "[CV] max_depth=10, n_estimators=100 ..................................\n",
      "[CV] ................... max_depth=10, n_estimators=100, total=   0.3s\n",
      "[CV] max_depth=10, n_estimators=1000 .................................\n",
      "[CV] ................... max_depth=10, n_estimators=100, total=   0.2s\n",
      "[CV] max_depth=10, n_estimators=1000 .................................\n",
      "[CV] ................... max_depth=5, n_estimators=2000, total=   3.9s\n",
      "[CV] max_depth=10, n_estimators=1000 .................................\n",
      "[CV] ................... max_depth=5, n_estimators=2000, total=   3.8s\n",
      "[CV] max_depth=10, n_estimators=1000 .................................\n"
     ]
    },
    {
     "name": "stderr",
     "output_type": "stream",
     "text": [
      "[Parallel(n_jobs=12)]: Done  17 tasks      | elapsed:    4.9s\n"
     ]
    },
    {
     "name": "stdout",
     "output_type": "stream",
     "text": [
      "[CV] ................... max_depth=5, n_estimators=2000, total=   4.0s\n",
      "[CV] max_depth=10, n_estimators=1000 .................................\n",
      "[CV] ................... max_depth=5, n_estimators=2000, total=   4.2s\n",
      "[CV] max_depth=10, n_estimators=2000 .................................\n",
      "[CV] ................... max_depth=5, n_estimators=2000, total=   4.2s\n",
      "[CV] max_depth=10, n_estimators=2000 .................................\n",
      "[CV] .................. max_depth=10, n_estimators=1000, total=   2.4s\n",
      "[CV] max_depth=10, n_estimators=2000 .................................\n",
      "[CV] .................. max_depth=10, n_estimators=1000, total=   2.3s\n",
      "[CV] max_depth=10, n_estimators=2000 .................................\n",
      "[CV] ................... max_depth=5, n_estimators=3000, total=   5.9s\n",
      "[CV] max_depth=10, n_estimators=2000 .................................\n",
      "[CV] .................. max_depth=10, n_estimators=1000, total=   2.3s\n",
      "[CV] max_depth=10, n_estimators=3000 .................................\n",
      "[CV] ................... max_depth=5, n_estimators=3000, total=   6.0s\n",
      "[CV] max_depth=10, n_estimators=3000 .................................\n",
      "[CV] .................. max_depth=10, n_estimators=1000, total=   2.3s\n",
      "[CV] max_depth=10, n_estimators=3000 .................................\n",
      "[CV] .................. max_depth=10, n_estimators=1000, total=   2.3s\n",
      "[CV] max_depth=10, n_estimators=3000 .................................\n",
      "[CV] ................... max_depth=5, n_estimators=3000, total=   5.8s\n",
      "[CV] max_depth=10, n_estimators=3000 .................................\n",
      "[CV] ................... max_depth=5, n_estimators=3000, total=   5.9s\n",
      "[CV] max_depth=12, n_estimators=100 ..................................\n",
      "[CV] ................... max_depth=5, n_estimators=3000, total=   6.1s\n",
      "[CV] max_depth=12, n_estimators=100 ..................................\n",
      "[CV] ................... max_depth=12, n_estimators=100, total=   0.2s\n",
      "[CV] max_depth=12, n_estimators=100 ..................................\n",
      "[CV] ................... max_depth=12, n_estimators=100, total=   0.2s\n",
      "[CV] max_depth=12, n_estimators=100 ..................................\n",
      "[CV] ................... max_depth=12, n_estimators=100, total=   0.2s\n",
      "[CV] max_depth=12, n_estimators=100 ..................................\n",
      "[CV] ................... max_depth=12, n_estimators=100, total=   0.3s\n",
      "[CV] max_depth=12, n_estimators=1000 .................................\n",
      "[CV] ................... max_depth=12, n_estimators=100, total=   0.3s\n",
      "[CV] max_depth=12, n_estimators=1000 .................................\n",
      "[CV] .................. max_depth=10, n_estimators=2000, total=   4.7s\n",
      "[CV] max_depth=12, n_estimators=1000 .................................\n",
      "[CV] .................. max_depth=10, n_estimators=2000, total=   4.5s\n",
      "[CV] max_depth=12, n_estimators=1000 .................................\n",
      "[CV] .................. max_depth=10, n_estimators=2000, total=   4.5s\n",
      "[CV] max_depth=12, n_estimators=1000 .................................\n",
      "[CV] .................. max_depth=10, n_estimators=2000, total=   4.7s\n",
      "[CV] max_depth=12, n_estimators=2000 .................................\n",
      "[CV] .................. max_depth=10, n_estimators=2000, total=   4.8s\n",
      "[CV] max_depth=12, n_estimators=2000 .................................\n",
      "[CV] .................. max_depth=12, n_estimators=1000, total=   2.4s\n",
      "[CV] max_depth=12, n_estimators=2000 .................................\n",
      "[CV] .................. max_depth=12, n_estimators=1000, total=   2.4s\n",
      "[CV] max_depth=12, n_estimators=2000 .................................\n",
      "[CV] .................. max_depth=12, n_estimators=1000, total=   2.3s\n",
      "[CV] max_depth=12, n_estimators=2000 .................................\n",
      "[CV] .................. max_depth=12, n_estimators=1000, total=   2.3s\n",
      "[CV] max_depth=12, n_estimators=3000 .................................\n",
      "[CV] .................. max_depth=12, n_estimators=1000, total=   2.7s\n",
      "[CV] max_depth=12, n_estimators=3000 .................................\n",
      "[CV] .................. max_depth=10, n_estimators=3000, total=   7.1s\n",
      "[CV] max_depth=12, n_estimators=3000 .................................\n",
      "[CV] .................. max_depth=10, n_estimators=3000, total=   7.1s\n",
      "[CV] max_depth=12, n_estimators=3000 .................................\n",
      "[CV] .................. max_depth=10, n_estimators=3000, total=   7.2s\n",
      "[CV] max_depth=12, n_estimators=3000 .................................\n",
      "[CV] .................. max_depth=10, n_estimators=3000, total=   7.1s\n",
      "[CV] max_depth=15, n_estimators=100 ..................................\n",
      "[CV] ................... max_depth=15, n_estimators=100, total=   0.3s\n",
      "[CV] max_depth=15, n_estimators=100 ..................................\n",
      "[CV] ................... max_depth=15, n_estimators=100, total=   0.2s\n",
      "[CV] max_depth=15, n_estimators=100 ..................................\n",
      "[CV] ................... max_depth=15, n_estimators=100, total=   0.3s\n",
      "[CV] max_depth=15, n_estimators=100 ..................................\n",
      "[CV] .................. max_depth=12, n_estimators=2000, total=   4.8s\n",
      "[CV] max_depth=15, n_estimators=100 ..................................\n",
      "[CV] ................... max_depth=15, n_estimators=100, total=   0.3s\n",
      "[CV] max_depth=15, n_estimators=1000 .................................\n",
      "[CV] ................... max_depth=15, n_estimators=100, total=   0.3s\n",
      "[CV] max_depth=15, n_estimators=1000 .................................\n",
      "[CV] .................. max_depth=10, n_estimators=3000, total=   7.2s\n",
      "[CV] max_depth=15, n_estimators=1000 .................................\n",
      "[CV] .................. max_depth=12, n_estimators=2000, total=   4.9s\n",
      "[CV] max_depth=15, n_estimators=1000 .................................\n",
      "[CV] .................. max_depth=12, n_estimators=2000, total=   5.0s\n",
      "[CV] max_depth=15, n_estimators=1000 .................................\n",
      "[CV] .................. max_depth=12, n_estimators=2000, total=   5.4s\n",
      "[CV] max_depth=15, n_estimators=2000 .................................\n",
      "[CV] .................. max_depth=12, n_estimators=2000, total=   5.1s\n",
      "[CV] max_depth=15, n_estimators=2000 .................................\n",
      "[CV] .................. max_depth=15, n_estimators=1000, total=   2.6s\n",
      "[CV] max_depth=15, n_estimators=2000 .................................\n",
      "[CV] .................. max_depth=15, n_estimators=1000, total=   2.8s\n",
      "[CV] max_depth=15, n_estimators=2000 .................................\n",
      "[CV] .................. max_depth=15, n_estimators=1000, total=   2.5s\n",
      "[CV] max_depth=15, n_estimators=2000 .................................\n",
      "[CV] .................. max_depth=15, n_estimators=1000, total=   2.6s\n",
      "[CV] max_depth=15, n_estimators=3000 .................................\n",
      "[CV] .................. max_depth=15, n_estimators=1000, total=   2.6s\n",
      "[CV] max_depth=15, n_estimators=3000 .................................\n",
      "[CV] .................. max_depth=12, n_estimators=3000, total=   7.6s\n",
      "[CV] max_depth=15, n_estimators=3000 .................................\n",
      "[CV] .................. max_depth=12, n_estimators=3000, total=   7.3s\n",
      "[CV] max_depth=15, n_estimators=3000 .................................\n",
      "[CV] .................. max_depth=12, n_estimators=3000, total=   7.3s\n",
      "[CV] max_depth=15, n_estimators=3000 .................................\n",
      "[CV] .................. max_depth=12, n_estimators=3000, total=   7.7s\n",
      "[CV] max_depth=20, n_estimators=100 ..................................\n",
      "[CV] .................. max_depth=12, n_estimators=3000, total=   7.8s\n",
      "[CV] ................... max_depth=20, n_estimators=100, total=   0.3s\n",
      "[CV] max_depth=20, n_estimators=100 ..................................\n",
      "[CV] max_depth=20, n_estimators=100 ..................................\n",
      "[CV] ................... max_depth=20, n_estimators=100, total=   0.3s\n",
      "[CV] max_depth=20, n_estimators=100 ..................................\n",
      "[CV] ................... max_depth=20, n_estimators=100, total=   0.3s\n",
      "[CV] max_depth=20, n_estimators=100 ..................................\n",
      "[CV] .................. max_depth=15, n_estimators=2000, total=   5.3s\n",
      "[CV] max_depth=20, n_estimators=1000 .................................\n",
      "[CV] .................. max_depth=15, n_estimators=2000, total=   5.5s\n",
      "[CV] max_depth=20, n_estimators=1000 .................................\n"
     ]
    },
    {
     "name": "stdout",
     "output_type": "stream",
     "text": [
      "[CV] ................... max_depth=20, n_estimators=100, total=   0.3s\n",
      "[CV] max_depth=20, n_estimators=1000 .................................\n",
      "[CV] ................... max_depth=20, n_estimators=100, total=   0.3s\n",
      "[CV] max_depth=20, n_estimators=1000 .................................\n",
      "[CV] .................. max_depth=15, n_estimators=2000, total=   5.2s\n",
      "[CV] max_depth=20, n_estimators=1000 .................................\n",
      "[CV] .................. max_depth=15, n_estimators=2000, total=   5.6s\n",
      "[CV] max_depth=20, n_estimators=2000 .................................\n",
      "[CV] .................. max_depth=15, n_estimators=2000, total=   5.6s\n",
      "[CV] max_depth=20, n_estimators=2000 .................................\n",
      "[CV] .................. max_depth=20, n_estimators=1000, total=   2.5s\n",
      "[CV] max_depth=20, n_estimators=2000 .................................\n",
      "[CV] .................. max_depth=20, n_estimators=1000, total=   2.8s\n",
      "[CV] max_depth=20, n_estimators=2000 .................................\n",
      "[CV] .................. max_depth=20, n_estimators=1000, total=   2.7s\n",
      "[CV] max_depth=20, n_estimators=2000 .................................\n",
      "[CV] .................. max_depth=20, n_estimators=1000, total=   3.2s\n",
      "[CV] max_depth=20, n_estimators=3000 .................................\n",
      "[CV] .................. max_depth=20, n_estimators=1000, total=   2.7s\n",
      "[CV] max_depth=20, n_estimators=3000 .................................\n",
      "[CV] .................. max_depth=15, n_estimators=3000, total=   7.8s\n",
      "[CV] max_depth=20, n_estimators=3000 .................................\n",
      "[CV] .................. max_depth=15, n_estimators=3000, total=   7.8s\n",
      "[CV] max_depth=20, n_estimators=3000 .................................\n",
      "[CV] .................. max_depth=15, n_estimators=3000, total=   8.0s\n",
      "[CV] max_depth=20, n_estimators=3000 .................................\n",
      "[CV] .................. max_depth=15, n_estimators=3000, total=   7.2s\n",
      "[CV] .................. max_depth=20, n_estimators=2000, total=   5.2s\n",
      "[CV] .................. max_depth=20, n_estimators=2000, total=   5.4s\n",
      "[CV] .................. max_depth=15, n_estimators=3000, total=   8.5s\n",
      "[CV] .................. max_depth=20, n_estimators=2000, total=   5.3s\n",
      "[CV] .................. max_depth=20, n_estimators=2000, total=   5.2s\n",
      "[CV] .................. max_depth=20, n_estimators=2000, total=   5.4s\n",
      "[CV] .................. max_depth=20, n_estimators=3000, total=   6.2s\n",
      "[CV] .................. max_depth=20, n_estimators=3000, total=   7.3s\n",
      "[CV] .................. max_depth=20, n_estimators=3000, total=   6.3s\n",
      "[CV] .................. max_depth=20, n_estimators=3000, total=   5.9s\n",
      "[CV] .................. max_depth=20, n_estimators=3000, total=   6.2s\n"
     ]
    },
    {
     "name": "stderr",
     "output_type": "stream",
     "text": [
      "[Parallel(n_jobs=12)]: Done 100 out of 100 | elapsed:   40.1s finished\n"
     ]
    },
    {
     "data": {
      "text/plain": [
       "GridSearchCV(cv=5, error_score='raise',\n",
       "       estimator=RandomForestClassifier(bootstrap=True, class_weight=None, criterion='gini',\n",
       "            max_depth=None, max_features='auto', max_leaf_nodes=None,\n",
       "            min_impurity_decrease=0.0, min_impurity_split=None,\n",
       "            min_samples_leaf=1, min_samples_split=2,\n",
       "            min_weight_fraction_leaf=0.0, n_estimators=10, n_jobs=1,\n",
       "            oob_score=False, random_state=None, verbose=0,\n",
       "            warm_start=False),\n",
       "       fit_params=None, iid=True, n_jobs=12,\n",
       "       param_grid={'n_estimators': [100, 1000, 2000, 3000], 'max_depth': [5, 10, 12, 15, 20]},\n",
       "       pre_dispatch='2*n_jobs', refit='neg_log_loss',\n",
       "       return_train_score='warn',\n",
       "       scoring=['accuracy', 'roc_auc', 'neg_log_loss'], verbose=2)"
      ]
     },
     "execution_count": 82,
     "metadata": {},
     "output_type": "execute_result"
    }
   ],
   "source": [
    "gridRF_extract.fit(X,y)"
   ]
  },
  {
   "cell_type": "code",
   "execution_count": 83,
   "metadata": {
    "scrolled": true
   },
   "outputs": [
    {
     "data": {
      "text/plain": [
       "RandomForestClassifier(bootstrap=True, class_weight=None, criterion='gini',\n",
       "            max_depth=20, max_features='auto', max_leaf_nodes=None,\n",
       "            min_impurity_decrease=0.0, min_impurity_split=None,\n",
       "            min_samples_leaf=1, min_samples_split=2,\n",
       "            min_weight_fraction_leaf=0.0, n_estimators=3000, n_jobs=1,\n",
       "            oob_score=False, random_state=None, verbose=0,\n",
       "            warm_start=False)"
      ]
     },
     "execution_count": 83,
     "metadata": {},
     "output_type": "execute_result"
    }
   ],
   "source": [
    "gridRF_extract.best_estimator_"
   ]
  },
  {
   "cell_type": "code",
   "execution_count": 84,
   "metadata": {
    "scrolled": true
   },
   "outputs": [
    {
     "name": "stdout",
     "output_type": "stream",
     "text": [
      "The best estimator scored:\n",
      "mean_test_roc_auc 0.9539\n",
      "mean_test_accuracy 0.9109\n",
      "mean_test_neg_log_loss -0.2823\n"
     ]
    }
   ],
   "source": [
    "results=gridRF_extract.cv_results_\n",
    "print ( 'The best estimator scored:')\n",
    "scores_names=['mean_test_roc_auc','mean_test_accuracy','mean_test_neg_log_loss']\n",
    "best=np.argmax(results['mean_test_neg_log_loss'])\n",
    "for s in scores_names:\n",
    "    print(s,round(results[s][best],4))"
   ]
  },
  {
   "cell_type": "code",
   "execution_count": null,
   "metadata": {},
   "outputs": [],
   "source": []
  },
  {
   "cell_type": "code",
   "execution_count": null,
   "metadata": {},
   "outputs": [],
   "source": []
  }
 ],
 "metadata": {
  "kernelspec": {
   "display_name": "Python 3",
   "language": "python",
   "name": "python3"
  },
  "language_info": {
   "codemirror_mode": {
    "name": "ipython",
    "version": 3
   },
   "file_extension": ".py",
   "mimetype": "text/x-python",
   "name": "python",
   "nbconvert_exporter": "python",
   "pygments_lexer": "ipython3",
   "version": "3.6.4"
  },
  "toc": {
   "base_numbering": 1,
   "nav_menu": {},
   "number_sections": true,
   "sideBar": true,
   "skip_h1_title": false,
   "title_cell": "Table of Contents",
   "title_sidebar": "Contents",
   "toc_cell": false,
   "toc_position": {},
   "toc_section_display": true,
   "toc_window_display": false
  }
 },
 "nbformat": 4,
 "nbformat_minor": 2
}
