{
 "cells": [
  {
   "cell_type": "code",
   "execution_count": 9,
   "metadata": {},
   "outputs": [
    {
     "name": "stdout",
     "output_type": "stream",
     "text": [
      "The autoreload extension is already loaded. To reload it, use:\n",
      "  %reload_ext autoreload\n"
     ]
    }
   ],
   "source": [
    "%load_ext autoreload\n",
    "%autoreload 2\n",
    "import tensorflow as tf\n",
    "config = tf.ConfigProto()\n",
    "config.gpu_options.allow_growth = True\n",
    "session = tf.Session(config=config)"
   ]
  },
  {
   "cell_type": "code",
   "execution_count": 10,
   "metadata": {},
   "outputs": [],
   "source": [
    "from pathlib import Path\n",
    "\n",
    "import numpy as np\n",
    "import pandas as pd\n",
    "import seaborn as sns\n",
    "from keras import backend as K\n",
    "from keras.layers import (Activation, BatchNormalization, Conv2D, Dense,\n",
    "                          Dropout, Flatten, GlobalAveragePooling2D,\n",
    "                          MaxPooling2D)\n",
    "from keras.models import Sequential\n",
    "from keras.optimizers import Adadelta, Adam\n",
    "from keras.preprocessing.image import ImageDataGenerator\n",
    "from matplotlib import pyplot as plt\n",
    "\n",
    "import helper\n",
    "import kfold_keras\n",
    "from helper import (dict_product, filter_guided, filter_lee,\n",
    "                    plot_training_history, prepare_data)\n",
    "from statoil_models import Simple_CNN\n",
    "from statoil_models import vgg16_finetune\n",
    "\n",
    "%config InlineBackend.figure_format = 'retina'\n",
    "%matplotlib inline"
   ]
  },
  {
   "cell_type": "markdown",
   "metadata": {},
   "source": [
    "# Data Augmentation \n",
    "\n",
    "In this notebook we perform a grid search to find the optimal data augmentation parameter. We try a range of different settings and check the performance on the validation set. "
   ]
  },
  {
   "cell_type": "markdown",
   "metadata": {},
   "source": [
    "##  Load Data\n",
    "\n",
    "we are using the data treatment that yielded the best results so far: Guided Prefilter, with no scaling"
   ]
  },
  {
   "cell_type": "code",
   "execution_count": 3,
   "metadata": {},
   "outputs": [
    {
     "name": "stdout",
     "output_type": "stream",
     "text": [
      "loaded training 1604\n",
      "filter: guided\n"
     ]
    }
   ],
   "source": [
    "data_folder = Path(\"data\")\n",
    "train_file = data_folder / 'train.json'\n",
    "test_file = data_folder / 'test.json'\n",
    "\n",
    "train = pd.read_json(train_file) \n",
    "print('loaded training '+str(len(train)))\n",
    "\n",
    "\n",
    "y=train['is_iceberg'].values ## convert pandas series to numpy array\n",
    "X=prepare_data(train,dim=[0,1,2],filter_function=filter_guided,rnd=False,scale=None)\n",
    "input_shape= X[0].shape\n",
    "print('filter: guided')"
   ]
  },
  {
   "cell_type": "markdown",
   "metadata": {},
   "source": [
    "## data augmentation for the VGG16\n",
    "We only use the fine tuned VGG16 model to test the data augmentation parameter"
   ]
  },
  {
   "cell_type": "markdown",
   "metadata": {},
   "source": [
    "Setting up the grid search parameter"
   ]
  },
  {
   "cell_type": "code",
   "execution_count": 7,
   "metadata": {},
   "outputs": [],
   "source": [
    "options = {\"data_format\": ['channels_last'], \"rotation_range\": [0,20,45],\n",
    "           \"horizontal_flip\":[True,False],\"vertical_flip\": [True,False],\n",
    "          \"zoom_range\":[0,0.15,0.3],\"fill_mode\":['nearest'],\"featurewise_center\":[False]}\n",
    "\n",
    "grid =dict_product(options)\n",
    "    "
   ]
  },
  {
   "cell_type": "code",
   "execution_count": 11,
   "metadata": {
    "scrolled": true
   },
   "outputs": [
    {
     "name": "stderr",
     "output_type": "stream",
     "text": [
      "0                   :   0%|          | 0/5 [00:00<?, ?it/s]/home/ckrull/anaconda3/lib/python3.6/site-packages/keras/preprocessing/image.py:594: UserWarning: This ImageDataGenerator specifies `featurewise_center`, but it hasn't been fit on any training data. Fit it first by calling `.fit(numpy_data)`.\n",
      "  warnings.warn('This ImageDataGenerator specifies '\n",
      "0                   : 100%|██████████| 5/5 [03:50<00:00, 45.57s/it, Acc=90.9, Epi=54.6, ROC_AUC=0.97, vloss=0.234] \n",
      "1                   : 100%|██████████| 5/5 [02:15<00:00, 28.75s/it, Acc=90.6, Epi=30.6, ROC_AUC=0.969, vloss=0.233]\n",
      "2                   : 100%|██████████| 5/5 [03:16<00:00, 33.85s/it, Acc=90.5, Epi=46.6, ROC_AUC=0.969, vloss=0.235]\n",
      "3                   : 100%|██████████| 5/5 [02:59<00:00, 37.55s/it, Acc=90.7, Epi=40.2, ROC_AUC=0.969, vloss=0.234]\n",
      "4                   : 100%|██████████| 5/5 [03:11<00:00, 36.73s/it, Acc=90.8, Epi=45.6, ROC_AUC=0.969, vloss=0.235]\n",
      "5                   : 100%|██████████| 5/5 [02:23<00:00, 28.41s/it, Acc=90.6, Epi=33.2, ROC_AUC=0.97, vloss=0.236] \n",
      "6                   : 100%|██████████| 5/5 [03:05<00:00, 38.31s/it, Acc=91.5, Epi=43.6, ROC_AUC=0.97, vloss=0.232] \n",
      "7                   : 100%|██████████| 5/5 [02:52<00:00, 32.57s/it, Acc=91, Epi=39.2, ROC_AUC=0.97, vloss=0.235]  \n",
      "8                   : 100%|██████████| 5/5 [02:53<00:00, 32.84s/it, Acc=90.5, Epi=34.8, ROC_AUC=0.97, vloss=0.234] \n",
      "9                   : 100%|██████████| 5/5 [04:05<00:00, 49.46s/it, Acc=90.8, Epi=39.8, ROC_AUC=0.97, vloss=0.233] \n",
      "10                  : 100%|██████████| 5/5 [04:09<00:00, 51.17s/it, Acc=90.6, Epi=51.6, ROC_AUC=0.969, vloss=0.234]\n",
      "11                  : 100%|██████████| 5/5 [03:20<00:00, 38.13s/it, Acc=91, Epi=45.2, ROC_AUC=0.97, vloss=0.232]   \n",
      "12                  : 100%|██████████| 5/5 [02:36<00:00, 28.78s/it, Acc=90.5, Epi=35.6, ROC_AUC=0.969, vloss=0.235]\n",
      "13                  : 100%|██████████| 5/5 [02:46<00:00, 36.75s/it, Acc=90.5, Epi=39.4, ROC_AUC=0.967, vloss=0.238]\n",
      "14                  : 100%|██████████| 5/5 [03:12<00:00, 37.96s/it, Acc=90.9, Epi=44.4, ROC_AUC=0.969, vloss=0.234]\n",
      "15                  : 100%|██████████| 5/5 [02:45<00:00, 31.10s/it, Acc=91.4, Epi=37, ROC_AUC=0.969, vloss=0.233]  \n",
      "16                  : 100%|██████████| 5/5 [02:39<00:00, 32.43s/it, Acc=91.1, Epi=36.6, ROC_AUC=0.969, vloss=0.236]\n",
      "17                  : 100%|██████████| 5/5 [02:45<00:00, 33.33s/it, Acc=91, Epi=38.8, ROC_AUC=0.971, vloss=0.232]  \n",
      "18                  : 100%|██████████| 5/5 [03:06<00:00, 35.77s/it, Acc=91, Epi=43.4, ROC_AUC=0.97, vloss=0.231]   \n",
      "19                  : 100%|██████████| 5/5 [02:40<00:00, 30.55s/it, Acc=91.1, Epi=36.4, ROC_AUC=0.969, vloss=0.234]\n",
      "20                  : 100%|██████████| 5/5 [03:00<00:00, 32.54s/it, Acc=90.1, Epi=40.8, ROC_AUC=0.968, vloss=0.237]\n",
      "21                  : 100%|██████████| 5/5 [02:55<00:00, 33.46s/it, Acc=90.5, Epi=40.2, ROC_AUC=0.969, vloss=0.234]\n",
      "22                  : 100%|██████████| 5/5 [02:19<00:00, 29.03s/it, Acc=90.6, Epi=32.8, ROC_AUC=0.969, vloss=0.239]\n",
      "23                  : 100%|██████████| 5/5 [02:35<00:00, 29.38s/it, Acc=91.1, Epi=34.4, ROC_AUC=0.969, vloss=0.235]\n",
      "24                  : 100%|██████████| 5/5 [02:18<00:00, 27.45s/it, Acc=91, Epi=30.4, ROC_AUC=0.97, vloss=0.239] \n",
      "25                  : 100%|██████████| 5/5 [02:57<00:00, 32.26s/it, Acc=90.1, Epi=41.6, ROC_AUC=0.969, vloss=0.235]\n",
      "26                  : 100%|██████████| 5/5 [02:30<00:00, 28.28s/it, Acc=91.3, Epi=32.4, ROC_AUC=0.969, vloss=0.234]\n",
      "27                  : 100%|██████████| 5/5 [04:12<00:00, 49.54s/it, Acc=90.7, Epi=56.6, ROC_AUC=0.968, vloss=0.236]\n"
     ]
    }
   ],
   "source": [
    "results_vgg16 = [] \n",
    "for name,datagen in enumerate(grid):\n",
    "    model=vgg16_finetune(input_shape)\n",
    "    (cvscores, roc_aucs,episodes,val_loss) = kfold_keras.k_fold_keras_early_stop(model,X,y\n",
    "                                                ,k=5,name=str(name),train_at_end=False\n",
    "                                                ,datagen=ImageDataGenerator(datagen),batch_size=128,patience=20)\n",
    "    results_vgg16.append(np.mean(val_loss))"
   ]
  },
  {
   "cell_type": "code",
   "execution_count": null,
   "metadata": {},
   "outputs": [],
   "source": [
    "grid =dict_product(options)\n",
    "best_aug_vgg16 = list(grid)[np.argmin(results_vgg16)]\n",
    "print (f'The best run was {np.argmin(results_vgg16)} with the following settings:')\n",
    "best_aug_vgg16"
   ]
  },
  {
   "cell_type": "markdown",
   "metadata": {},
   "source": [
    "The above data augmentation settings lead to the best improvement for the VGG16 model"
   ]
  },
  {
   "cell_type": "markdown",
   "metadata": {},
   "source": [
    "## data augmentation for the larger CNN best settings"
   ]
  },
  {
   "cell_type": "markdown",
   "metadata": {},
   "source": [
    "Setting up the grid search parameter\n",
    "using the small CNN to evaluate impact"
   ]
  },
  {
   "cell_type": "code",
   "execution_count": null,
   "metadata": {},
   "outputs": [],
   "source": [
    "options = {\"data_format\": ['channels_last'], \"rotation_range\": [0,20,45],\n",
    "           \"horizontal_flip\":[True,False],\"vertical_flip\": [True,False],\n",
    "          \"zoom_range\":[0,0.15,0.3],\"fill_mode\":['nearest'],\"featurewise_center\":[False]}\n",
    "\n",
    "\n",
    "grid =dict_product(options)\n",
    "   "
   ]
  },
  {
   "cell_type": "code",
   "execution_count": null,
   "metadata": {},
   "outputs": [],
   "source": [
    "results = [] \n",
    "for name,datagen in enumerate(grid):\n",
    "    model = Larger_CNN(input_shape,width=4)\n",
    "    (cvscores, roc_aucs,episodes,val_loss) = kfold_keras.k_fold_keras_early_stop(model,X,y\n",
    "                                                ,k=5,name=str(name),train_at_end=False\n",
    "                                                ,datagen=ImageDataGenerator(datagen),patience=20)\n",
    "    results.append(np.mean(val_loss))"
   ]
  },
  {
   "cell_type": "code",
   "execution_count": null,
   "metadata": {},
   "outputs": [],
   "source": [
    "grid =dict_product(options)\n",
    "results = np.where(np.isnan(results), 1, results)\n",
    "best_aug_small_cnn = list(grid)[np.argmin(results)]\n",
    "print (f'The best run was {np.argmin(results)} with the following settings:')\n",
    "best_aug_small_cnn"
   ]
  },
  {
   "cell_type": "code",
   "execution_count": null,
   "metadata": {},
   "outputs": [],
   "source": []
  },
  {
   "cell_type": "markdown",
   "metadata": {},
   "source": [
    "## data augmentation for the small CNN best settings"
   ]
  },
  {
   "cell_type": "markdown",
   "metadata": {},
   "source": [
    "Setting up the grid search parameter\n",
    "using the small CNN to evaluate impact"
   ]
  },
  {
   "cell_type": "code",
   "execution_count": 4,
   "metadata": {},
   "outputs": [],
   "source": [
    "options = {\"data_format\": ['channels_last'], \"rotation_range\": [0,20,45],\n",
    "           \"horizontal_flip\":[True,False],\"vertical_flip\": [True,False],\n",
    "          \"zoom_range\":[0,0.15,0.3],\"fill_mode\":['nearest'],\"featurewise_center\":[False]}\n",
    "\n",
    "grid =dict_product(options)\n",
    "   "
   ]
  },
  {
   "cell_type": "code",
   "execution_count": 5,
   "metadata": {},
   "outputs": [
    {
     "name": "stderr",
     "output_type": "stream",
     "text": [
      "0                   :   0%|          | 0/5 [00:00<?, ?it/s]/home/ckrull/anaconda3/lib/python3.6/site-packages/keras/preprocessing/image.py:594: UserWarning: This ImageDataGenerator specifies `featurewise_center`, but it hasn't been fit on any training data. Fit it first by calling `.fit(numpy_data)`.\n",
      "  warnings.warn('This ImageDataGenerator specifies '\n",
      "0                   : 100%|██████████| 5/5 [01:17<00:00, 14.71s/it, Acc=86.7, Epi=57.2, ROC_AUC=0.946, vloss=0.313]\n",
      "1                   : 100%|██████████| 5/5 [02:19<00:00, 27.39s/it, Acc=71.5, Epi=66.2, ROC_AUC=0.772, vloss=7.55]\n",
      "2                   : 100%|██████████| 5/5 [02:02<00:00, 20.70s/it, Acc=70.2, Epi=58.6, ROC_AUC=0.739, vloss=6.78]\n",
      "3                   : 100%|██████████| 5/5 [02:43<00:00, 31.36s/it, Acc=87.2, Epi=71.8, ROC_AUC=0.951, vloss=0.323]\n",
      "4                   : 100%|██████████| 5/5 [02:11<00:00, 25.22s/it, Acc=85.4, Epi=61.6, ROC_AUC=0.933, vloss=0.328]\n",
      "5                   : 100%|██████████| 5/5 [02:27<00:00, 28.84s/it, Acc=76.9, Epi=55.4, ROC_AUC=0.85, vloss=3.93]  \n",
      "6                   : 100%|██████████| 5/5 [00:30<00:00,  5.97s/it, Acc=53.1, Epi=23.2, ROC_AUC=0.5, vloss=16.2]\n",
      "7                   : 100%|██████████| 5/5 [01:25<00:00, 13.64s/it, Acc=71, Epi=69.6, ROC_AUC=0.742, vloss=6.71]  \n",
      "8                   : 100%|██████████| 5/5 [01:17<00:00, 14.98s/it, Acc=87.7, Epi=63.8, ROC_AUC=0.954, vloss=0.311]\n",
      "9                   : 100%|██████████| 5/5 [00:38<00:00,  7.70s/it, Acc=59.9, Epi=30.4, ROC_AUC=0.59, vloss=13]   \n",
      "10                  : 100%|██████████| 5/5 [01:46<00:00, 21.60s/it, Acc=88.5, Epi=86.2, ROC_AUC=0.957, vloss=0.304]\n",
      "11                  : 100%|██████████| 5/5 [01:15<00:00, 14.52s/it, Acc=86.5, Epi=58.8, ROC_AUC=0.95, vloss=0.314] \n",
      "12                  : 100%|██████████| 5/5 [01:50<00:00, 21.27s/it, Acc=87.1, Epi=87.2, ROC_AUC=0.952, vloss=0.375]\n",
      "13                  : 100%|██████████| 5/5 [01:24<00:00, 17.32s/it, Acc=84.2, Epi=64.8, ROC_AUC=0.925, vloss=0.377]\n",
      "14                  : 100%|██████████| 5/5 [01:15<00:00, 15.18s/it, Acc=85.6, Epi=59.4, ROC_AUC=0.938, vloss=0.335]\n",
      "15                  : 100%|██████████| 5/5 [00:47<00:00, 10.97s/it, Acc=60.1, Epi=35, ROC_AUC=0.59, vloss=13.1]\n",
      "16                  : 100%|██████████| 5/5 [01:28<00:00, 17.56s/it, Acc=79.7, Epi=70, ROC_AUC=0.835, vloss=3.54]   \n",
      "17                  : 100%|██████████| 5/5 [01:12<00:00, 15.54s/it, Acc=66.8, Epi=57.6, ROC_AUC=0.679, vloss=9.87]\n",
      "18                  : 100%|██████████| 5/5 [01:07<00:00, 13.94s/it, Acc=85.9, Epi=53.6, ROC_AUC=0.94, vloss=0.346] \n",
      "19                  : 100%|██████████| 5/5 [01:18<00:00, 15.08s/it, Acc=86.5, Epi=62.6, ROC_AUC=0.949, vloss=0.309]\n",
      "20                  : 100%|██████████| 5/5 [00:56<00:00,  9.69s/it, Acc=62.3, Epi=42, ROC_AUC=0.676, vloss=11.1] \n",
      "21                  : 100%|██████████| 5/5 [01:09<00:00, 14.83s/it, Acc=85.5, Epi=57.4, ROC_AUC=0.947, vloss=0.405]\n",
      "22                  : 100%|██████████| 5/5 [01:28<00:00, 16.61s/it, Acc=87.2, Epi=67, ROC_AUC=0.944, vloss=0.37]   \n",
      "23                  : 100%|██████████| 5/5 [01:28<00:00, 18.13s/it, Acc=84.7, Epi=70.4, ROC_AUC=0.931, vloss=0.38] \n",
      "24                  : 100%|██████████| 5/5 [01:13<00:00, 14.33s/it, Acc=85.9, Epi=56.4, ROC_AUC=0.934, vloss=0.346]\n",
      "25                  : 100%|██████████| 5/5 [01:20<00:00, 15.70s/it, Acc=86.4, Epi=64.4, ROC_AUC=0.95, vloss=0.329] \n",
      "26                  : 100%|██████████| 5/5 [00:36<00:00,  7.13s/it, Acc=53.1, Epi=24.8, ROC_AUC=0.5, vloss=16.2]\n",
      "27                  : 100%|██████████| 5/5 [01:24<00:00, 16.23s/it, Acc=86.3, Epi=67.2, ROC_AUC=0.934, vloss=0.367]\n",
      "28                  : 100%|██████████| 5/5 [01:22<00:00, 15.82s/it, Acc=86.5, Epi=64.8, ROC_AUC=0.943, vloss=0.335]\n",
      "29                  : 100%|██████████| 5/5 [01:36<00:00, 20.82s/it, Acc=86.6, Epi=77, ROC_AUC=0.945, vloss=0.337] \n",
      "30                  : 100%|██████████| 5/5 [01:58<00:00, 23.16s/it, Acc=86.3, Epi=98, ROC_AUC=0.946, vloss=0.322] \n",
      "31                  : 100%|██████████| 5/5 [01:45<00:00, 22.33s/it, Acc=87.2, Epi=83.8, ROC_AUC=0.947, vloss=0.426]\n",
      "32                  : 100%|██████████| 5/5 [01:25<00:00, 16.51s/it, Acc=86.5, Epi=67.8, ROC_AUC=0.939, vloss=0.321]\n",
      "33                  : 100%|██████████| 5/5 [01:04<00:00, 13.79s/it, Acc=67.5, Epi=48.8, ROC_AUC=0.684, vloss=9.83]\n",
      "34                  : 100%|██████████| 5/5 [01:32<00:00, 18.62s/it, Acc=87, Epi=69.6, ROC_AUC=0.948, vloss=0.363]\n",
      "35                  : 100%|██████████| 5/5 [01:08<00:00, 14.51s/it, Acc=72.3, Epi=49.6, ROC_AUC=0.762, vloss=6.71]\n"
     ]
    }
   ],
   "source": [
    "results = [] \n",
    "for name,datagen in enumerate(grid):\n",
    "    model = Simple_CNN(input_shape,width=2)\n",
    "    (cvscores, roc_aucs,episodes,val_loss) = kfold_keras.k_fold_keras_early_stop(model,X,y\n",
    "                                                ,k=5,name=str(name),train_at_end=False\n",
    "                                                ,datagen=ImageDataGenerator(datagen),patience=20)\n",
    "    results.append(np.mean(val_loss))"
   ]
  },
  {
   "cell_type": "code",
   "execution_count": 6,
   "metadata": {},
   "outputs": [
    {
     "name": "stdout",
     "output_type": "stream",
     "text": [
      "The best run was 10 with the following settings:\n"
     ]
    },
    {
     "data": {
      "text/plain": [
       "{'data_format': 'channels_last',\n",
       " 'featurewise_center': False,\n",
       " 'fill_mode': 'nearest',\n",
       " 'horizontal_flip': False,\n",
       " 'rotation_range': 0,\n",
       " 'vertical_flip': False,\n",
       " 'zoom_range': 0.15}"
      ]
     },
     "execution_count": 6,
     "metadata": {},
     "output_type": "execute_result"
    }
   ],
   "source": [
    "grid =dict_product(options)\n",
    "results = np.where(np.isnan(results), 1, results)\n",
    "best_aug_small_cnn = list(grid)[np.argmin(results)]\n",
    "print (f'The best run was {np.argmin(results)} with the following settings:')\n",
    "best_aug_small_cnn"
   ]
  },
  {
   "cell_type": "code",
   "execution_count": 12,
   "metadata": {},
   "outputs": [],
   "source": [
    "grid =dict_product(options)\n",
    "best_aug_small_cnn = list(grid)[19]"
   ]
  },
  {
   "cell_type": "markdown",
   "metadata": {},
   "source": [
    "We will use the above data augmentation setup.While the score is slightly worse than the top selection, it applies more kinds of transformations to the data, making the resulting model more generalising."
   ]
  },
  {
   "cell_type": "code",
   "execution_count": null,
   "metadata": {},
   "outputs": [],
   "source": []
  }
 ],
 "metadata": {
  "kernelspec": {
   "display_name": "Python 3",
   "language": "python",
   "name": "python3"
  },
  "language_info": {
   "codemirror_mode": {
    "name": "ipython",
    "version": 3
   },
   "file_extension": ".py",
   "mimetype": "text/x-python",
   "name": "python",
   "nbconvert_exporter": "python",
   "pygments_lexer": "ipython3",
   "version": "3.6.4"
  },
  "notify_time": "5",
  "toc": {
   "base_numbering": 1,
   "nav_menu": {},
   "number_sections": true,
   "sideBar": true,
   "skip_h1_title": false,
   "title_cell": "Table of Contents",
   "title_sidebar": "Contents",
   "toc_cell": false,
   "toc_position": {
    "height": "calc(100% - 180px)",
    "left": "10px",
    "top": "150px",
    "width": "313px"
   },
   "toc_section_display": true,
   "toc_window_display": false
  }
 },
 "nbformat": 4,
 "nbformat_minor": 2
}
